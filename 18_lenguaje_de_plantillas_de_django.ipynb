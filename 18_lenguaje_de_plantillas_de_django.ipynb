{
 "cells": [
  {
   "cell_type": "markdown",
   "metadata": {},
   "source": [
    "[![imagenes](imagenes/pythonista.png)](https://pythonista.mx)"
   ]
  },
  {
   "cell_type": "markdown",
   "metadata": {},
   "source": [
    "# Lenguaje de plantillas de *Django*."
   ]
  },
  {
   "cell_type": "markdown",
   "metadata": {},
   "source": [
    "**ADVERTENCIA:**  \n",
    "\n",
    "Para poder realizar exitosamente los ejercicios de esta notebook, es necesario haber seguido al pie de la letra y en orden sucesivo las instrucciones de todas las notebooks previas."
   ]
  },
  {
   "cell_type": "markdown",
   "metadata": {},
   "source": [
    "El *DTL* es un lenguaje extendido de Python y por lo tanto, puede realizar algunas operaciones cuando se ingresan objetos de Python como elementos de un contexto.\n",
    "\n",
    "Cabe hacer notar que los valores que puede manipular el *DTL* siempre serán convertidos a una cadena de caracteres.\n",
    "\n",
    "## Operaciones que se pueden realizar con el *DTL*.\n",
    "\n",
    "Las plantillas que incluyen código basado en el *DTL* puede realizar las siguientes operaciones.\n",
    "\n",
    "* Acceder a los objetos ingresados en un contexto de forma similar a como *Python* accede al espacio de nombres del ámbito global.\n",
    "* Ejecutar expresiones utilizando filtros.\n",
    "* Delimitar bloques.\n",
    "* Ejecutar declaraciones condicionales.\n",
    "* Realizar ciclos.\n",
    "* Heredar de contenidos.\n",
    "\n",
    "## Operaciones que NO puede realizar el *DTL*.\n",
    "\n",
    "* Ejecutar expresiones numéricas.\n",
    "* Acceder a atributos o métodos de un objeto.\n",
    "* Definir variables en un ámbito global.\n",
    "* Definir funciones o macros.\n",
    "* Acceder a elementos de una colección mediante la sintaxis de indices usando corchetes.\n",
    "\n",
    "Referencia:\n",
    "\n",
    "https://docs.djangoproject.com/en/3.1/ref/templates/builtins/"
   ]
  },
  {
   "cell_type": "markdown",
   "metadata": {},
   "source": [
    "## Expresiones y filtros.\n",
    "\n",
    "Las expresiones se definen con la siguiente sintaxis:\n",
    "\n",
    "```\n",
    "{{ <expresión> }}\n",
    "```\n",
    "\n",
    "Una expresión debe de implicar al menos un elemento que será convertido en una cadena de caracteres. Este elemento puede ser:\n",
    "\n",
    "* Un objeto de Python ligado a un nombre.\n",
    "\n",
    "### Filtros.\n",
    "\n",
    "*DTL* no soporta los operadores de Python para interpretar expresiones, sino que utiliza una serie de filtros mediante la siguiente sintaxis.\n",
    "\n",
    "```\n",
    "{{ <elemento>|<filtro 1>:\"<argumento 1>\"|<filtro 2>:\"<argumento 2>\"| ... |<filtro n>:\"<argumento n>\" \n",
    "```\n",
    "\n",
    "Donde: \n",
    "* ```<elemento>``` es un objeto de *Python* que puede ser procesado por el *DTL*.\n",
    "\n",
    "* Las expresiones permiten \"concatentar\" filtros, por lo que la salida del filtro de la izquierda es la entrada del filtro de la derecha.\n",
    "* Los filtros pueden incluir argumentos.\n",
    "\n",
    "Los filtros dsiponibles pueden ser consultado en https://docs.djangoproject.com/en/3.1/ref/templates/builtins/#built-in-filter-reference."
   ]
  },
  {
   "cell_type": "markdown",
   "metadata": {},
   "source": [
    "## Expresiones y filtros.\n",
    "\n",
    "Las expresiones se definen con la siguiente sintaxis:\n",
    "\n",
    "```\n",
    "{{ <expresión> }}\n",
    "```\n",
    "\n",
    "Una expresión debe de implicar al menos un elemento que será convertido en una cadena de caracteres. Este elemento puede ser:\n",
    "\n",
    "* Un objeto de Python ligado a un nombre.\n",
    "* Un atributo de un objeto de Python.\n",
    "* El resultado de la ejecuciónde un método de un objeto de Python.\n",
    "\n",
    "### Filtros.\n",
    "\n",
    "*DTL* no soporta los operadores de Python para interpretar expresiones, sino que utiliza una serie de filtros mediante la siguiente sintaxis.\n",
    "\n",
    "```\n",
    "{{ <elemento>|<filtro 1>:\"<argumento>\"|<filtro 2>:\"<argumento>\"| ... |<filtro n>:\"<argumento>\" \n",
    "```\n",
    "* Las expresiones permiten \"concatentar\" filtros, por lo que la salida del filtro de la izquierda es la entrada del filtro de la derecha.\n",
    "* Los filtros pueden incluir argumentos.\n",
    "\n",
    "Los filtros dsiponibles pueden ser consultado en https://docs.djangoproject.com/en/2.2/ref/templates/builtins/#built-in-filter-reference."
   ]
  },
  {
   "cell_type": "markdown",
   "metadata": {},
   "source": [
    "## Asignación de nombres con ```{% with %}```.\n",
    "\n",
    "La declaración *with* se utiliza dentro de declaraciones y permite ligar a un elemento específico con un nombre. El ámbito de estos nombres está limitado al bloque que lo contiene.\n",
    "\n",
    "```\n",
    "{% with <nombre>=<elemento> %}\n",
    "```"
   ]
  },
  {
   "cell_type": "markdown",
   "metadata": {},
   "source": [
    "## Declaraciones."
   ]
  },
  {
   "cell_type": "markdown",
   "metadata": {},
   "source": [
    "### La declaración ```{% filter %}``` ... ```{%endfilter%}```.\n",
    "\n",
    "Esta declaración aplica una serie de filtros al texto delimitado.\n",
    "\n",
    "```\n",
    "{% filter <filtros> %}\n",
    "...\n",
    "<Texto y código>\n",
    "...\n",
    "{%endfilter}\n",
    "```"
   ]
  },
  {
   "cell_type": "markdown",
   "metadata": {},
   "source": [
    "### La declaración ```{%comment%}``` ...  ```{%endcomment%}```\n",
    "\n",
    "El bloque de texto delimitado por esta Ddeclaración será ignorado.\n",
    "\n",
    "```\n",
    "{% comment \"<nota opcional>\" %}\n",
    "...\n",
    "<Texto y código>\n",
    "...\n",
    "{%endcomment}\n",
    "```"
   ]
  },
  {
   "cell_type": "markdown",
   "metadata": {},
   "source": [
    "### La declaración con ```{% if ...%}``` ... ```{% endif %}``` .\n",
    "\n",
    "Esta declaración permite evaluar declaraciones lógicas similares a las usadas en Python.\n",
    "\n",
    "```\n",
    "{% if <expresión lógica 1>%}\n",
    "...\n",
    "<Texto y código>\n",
    "...\n",
    "{% endif %}\n",
    "```\n",
    "\n",
    "####  Uso de ```{%elif %}``` y ```{% else %}``` en un condicional .\n",
    "\n",
    "También es posible evaluar más de una expresión con la siguiente sintaxis:\n",
    "\n",
    "```\n",
    "{% if <expresión lógica 1>%}\n",
    "...\n",
    "<Texto y código>\n",
    "...\n",
    "{% elif <expresión lógica 2>%}\n",
    "...\n",
    "<Texto y código>\n",
    "...\n",
    "{% elif <expresión lógica n>%}\n",
    "...\n",
    "<Texto y código>\n",
    "...\n",
    "{% else %}\n",
    "...\n",
    "<Texto y código>\n",
    "...\n",
    "{% endif %}\n",
    "```"
   ]
  },
  {
   "cell_type": "markdown",
   "metadata": {},
   "source": [
    "### Iteraciones con la declaración ```{% for ... in ... %}``` ... ```{% endfor %}```.\n",
    "\n",
    "La evaluación de ciclos con *for* se comportan de forma idéntica a Python, pero con la siguiente sintaxis:\n",
    "\n",
    "```\n",
    "{% for <nombre de elemento> in <iterable> %}\n",
    "...\n",
    "<Texto y código>\n",
    "...\n",
    "{% endfor %}\n",
    "```\n",
    "\n",
    "Cabe hacer notar que al igual que en Python, es posible hacer iteraciones que incluyan  varios elementos, siempre que cada elemento del iterador contenga exactamente el mismo número de elementos internos que los nombres declarados.\n",
    "\n",
    "```\n",
    "{% for <nombre de elemento 1>,<nombre de elemento 2>, ...  <nombre de elemento n>,    in <iterable> %}\n",
    "...\n",
    "<Texto y código>\n",
    "...\n",
    "{% endfor %}\n",
    "```"
   ]
  },
  {
   "cell_type": "markdown",
   "metadata": {},
   "source": [
    "#### La estructura  ```{%empty%}```.\n",
    "\n",
    "En este caso es posible delimitar una proción de texto y código que se ejecutará en caso de que el iterador esté vacío.\n",
    "\n",
    "```\n",
    "{% for <nombre de elemento 1>,<nombre de elemento 2>, ...  <nombre de elemento n>,    in <iterable> %}\n",
    "...\n",
    "<Texto y código>\n",
    "...\n",
    "{% empty %}\n",
    "...\n",
    "<Texto y código>\n",
    "...\n",
    "{% endfor %}\n",
    "```"
   ]
  },
  {
   "cell_type": "markdown",
   "metadata": {},
   "source": [
    "#### La estructura ```{%cycle ...%}```.\n",
    "\n",
    "Esta declaración permite definir una secuencia de textos encerrados por comillas o apóstrofes y separados por espacios, de tal forma que regrese cada uno de los elementos dentro de una iteración. Si la secuencia de elementos termina, vuelve a comenzar.\n",
    "\n",
    "```\n",
    "{% for %}\n",
    "...\n",
    "{% cycle '<texto 1>' '<texto 2>' ... '<texto n>' %} \n",
    "...\n",
    "{% endfor %}\n",
    "```\n",
    "\n",
    "#### La estructura ```{%cycle... as...%}```.\n",
    "\n",
    "Esta estructura permite asignarle un nombre a cada elemento del ciclo de forma similar a *with*.\n",
    "\n",
    "```\n",
    "{% for %}\n",
    "...\n",
    "{% cycle '<texto 1>' '<texto 2>' ... '<texto n>' as <nombre> %} \n",
    "...\n",
    "{% endfor %}\n",
    "```"
   ]
  },
  {
   "cell_type": "markdown",
   "metadata": {},
   "source": [
    "### La estructura ```{% block %} ...  {%endblock%}```.\n",
    "\n",
    "Esta declaración le asigna un nombre al bloque que delimita.\n",
    "\n",
    "```\n",
    "{% block <nombre> %}\n",
    "...\n",
    "<Texto y código>\n",
    "...\n",
    "{% endblock %}\n",
    "```"
   ]
  },
  {
   "cell_type": "markdown",
   "metadata": {},
   "source": [
    "### La declaración ```{% extends %}```.\n",
    "\n",
    "Es posible crear una nueva plantilla partir de mediante la siguiente sintaxis:\n",
    "\n",
    "```{% extends '<ruta de la platilla de origen>' %}\n",
    "```\n",
    "\n",
    "Esto traerá consigo el contenido completo de la plantilla de origen y es posible sobrescribir los bloques simpremente redefiniéndolos."
   ]
  },
  {
   "cell_type": "markdown",
   "metadata": {},
   "source": [
    "## Ejemplos de plantillas.\n",
    "\n",
    "Se crearán dos URLs las cuales desplegarán la información de todos los alumnos dados de alta mediante la aplicación en *api*.\n",
    "\n",
    "* La primera URL hará un despliegue simple de la información como listados.\n",
    "* La segunda URL desplegará la información indicando si el usuario es válido a partir de el valor del atributo *al_corriente* de cada objeto.\n",
    "\n",
    "### Definición de URLs.\n",
    "\n",
    "Dentro de la apliación *api* se crearán 2 nuevas reglas de URL, cuyas funciones de vista regresarán una plantilla.\n",
    "\n",
    "El archivo ```src/18/urls.py``` contiene lo siguiente:\n",
    "\n",
    "```python\n",
    "from django.urls import path, re_path\n",
    "from . import views, endpoint_views, template_views\n",
    "\n",
    "urlpatterns = [path('', views.vista),\n",
    "               path('carga', views.carga),\n",
    "               re_path(r'^(?P<clave>[0-9]{4}$)', endpoint_views.clave),\n",
    "               path('vista/', template_views.vista),\n",
    "                path('valida/', template_views.valida)\n",
    "         ]\n",
    "```\n",
    "Definiendo las URLs:\n",
    "\n",
    "* ```api/vista/```, ligada a la función ```template_views.vista()```.\n",
    "* ```api/valida/```, ligada a la función ```template_views.valida()```."
   ]
  },
  {
   "cell_type": "markdown",
   "metadata": {},
   "source": [
    "* La siguiente celda sustituirá al archivo ```tutorial/api/urls.py``` con el archivo ```src/18/urls.py```."
   ]
  },
  {
   "cell_type": "markdown",
   "metadata": {},
   "source": [
    "* Para las plataformas GNU/Linux y MacOS X."
   ]
  },
  {
   "cell_type": "code",
   "execution_count": null,
   "metadata": {},
   "outputs": [],
   "source": [
    "!cp src/18/urls.py tutorial/api/urls.py"
   ]
  },
  {
   "cell_type": "markdown",
   "metadata": {},
   "source": [
    "* Para la plataforma Windows."
   ]
  },
  {
   "cell_type": "code",
   "execution_count": null,
   "metadata": {},
   "outputs": [],
   "source": [
    "!copy src\\18\\urls.py tutorial\\api\\urls.py"
   ]
  },
  {
   "cell_type": "code",
   "execution_count": null,
   "metadata": {},
   "outputs": [],
   "source": [
    "%pycat tutorial/api/urls.py"
   ]
  },
  {
   "cell_type": "markdown",
   "metadata": {},
   "source": [
    "### Definición de funciones de vista.\n",
    "\n",
    "El archivo ```tutorial/api/urls.py``` hace referencia al módulo ```template_views``` en el que se encuentran definidas las funciones ```vista()``` y ```valida()```.\n",
    "\n",
    "El archivo ```src/18/template_views.py``` contiene el siguiente código que define a las funciones en cuestión.\n",
    "\n",
    "``` python\n",
    "from .models import Alumno\n",
    "from django.shortcuts import render\n",
    "\n",
    "campos = ('numero_de_cuenta', 'nombre', 'primer_apellido', 'segundo_apellido', 'carrera', 'semestre', 'promedio', 'al_corriente')\n",
    "\n",
    "def vista(request):\n",
    "    lista = [[(campo, getattr(alumno, campo)) for campo in campos] for alumno in Alumno.objects.all()]\n",
    "    contexto = {'lista': lista}\n",
    "    return render(request, 'listado.html', contexto) \n",
    "\n",
    "def valida(request):\n",
    "    lista = [[getattr(alumno, campo) for campo in campos] for alumno in Alumno.objects.all()]\n",
    "    contexto = {'lista': lista}\n",
    "    return render(request, 'valida.html', contexto) \n",
    "```\n",
    "\n",
    "* La función ```vista()``` hace lo siguiente:\n",
    "    * Trae a todas las instancias del modelo ```api.models.Alumno``` de la base de datos.\n",
    "    * Crea un objeto tipo ```list``` con nombre ```lista``` el cual contiene de pares correspondientes a un campo y el atributo correspondiente de cada objeto instanciados de ```api.models.Alumno```.\n",
    "    * Despliega la plantilla ```listado.html``` enviando los datos de ```lista``` con el identificador ``lista``. \n",
    "    \n",
    "* La función ```valida()``` hace lo siguiente:\n",
    "    * Trae a todas las instancias del modelo ````api.models.Alumno``` de la base de datos.\n",
    "    * Crea un objeto tipo ```list``` con nombre ```lista``` el cual contiene a su vez un listado de los atributos correspondientes de cada objeto instanciados de ```api.models.Alumno```.\n",
    "    * Despliega la plantilla ```valida.html``` enviando los datos de ```lista``` con el identificador ```lista```. "
   ]
  },
  {
   "cell_type": "markdown",
   "metadata": {},
   "source": [
    "* La siguiente celda sustituirá al archivo * tutorial/api/template_views.py* con el archivo *src/19/template_views.py*."
   ]
  },
  {
   "cell_type": "code",
   "execution_count": null,
   "metadata": {},
   "outputs": [],
   "source": [
    "!cp src/18/template_views.py tutorial/api/template_views.py"
   ]
  },
  {
   "cell_type": "code",
   "execution_count": null,
   "metadata": {},
   "outputs": [],
   "source": [
    "!copy src\\18\\template_views.py tutorial\\api\\template_views.py"
   ]
  },
  {
   "cell_type": "code",
   "execution_count": null,
   "metadata": {
    "scrolled": true
   },
   "outputs": [],
   "source": [
    "%pycat tutorial/api/template_views.py"
   ]
  },
  {
   "cell_type": "markdown",
   "metadata": {},
   "source": [
    "### Definición de plantillas.\n",
    "\n",
    "#### La plantilla ```base.html```.\n",
    "\n",
    "Esta plantilla define el bloque ```encabezado``` y el bloque ```cuerpo``` y será usada como base para extender a las siguientes plantillas.\n",
    "\n",
    "El archivo ```src/18/base.html``` es una plantilla que contiene lo siguiente:\n",
    "\n",
    "```html\n",
    "<!DOCTYPE html>\n",
    "<html>\n",
    "    <header>\n",
    "        <meta charset=\"UTF-8\">\n",
    "        <title>\n",
    "            {% block encabezado %}\n",
    "                {{ titulo }}\n",
    "            {% endblock %}\n",
    "        </title>\n",
    "    </header>\n",
    "    <body>\n",
    "        {% block cuerpo %}\n",
    "        <h1>¡Hola, {{nombre}}!</h1>\n",
    "        {% endblock %}\n",
    "    </body>\n",
    "</html>  \n",
    "```"
   ]
  },
  {
   "cell_type": "markdown",
   "metadata": {},
   "source": [
    "* La siguiente celda copiará al archivo ```src/18/base.html``` en el directorio ```tutorial/templates/```."
   ]
  },
  {
   "cell_type": "code",
   "execution_count": null,
   "metadata": {},
   "outputs": [],
   "source": [
    "!cp src/18/base.html tutorial/templates/"
   ]
  },
  {
   "cell_type": "code",
   "execution_count": null,
   "metadata": {},
   "outputs": [],
   "source": [
    "!copy src\\18\\base.html tutorial\\templates\\"
   ]
  },
  {
   "cell_type": "code",
   "execution_count": null,
   "metadata": {},
   "outputs": [],
   "source": [
    "%pycat tutorial/templates/base.html"
   ]
  },
  {
   "cell_type": "markdown",
   "metadata": {},
   "source": [
    "#### La plantilla ```listado.html```.\n",
    "La plantilla ```src/18/listado.html``` contiene el siguiente código:\n",
    "\n",
    "```html\n",
    "{% extends \"base.html\" %}\n",
    "{% block encabezado %}Listado de alumnos.{% endblock %}\n",
    "{% block cuerpo %}\n",
    "    <h1> Listado de alumnos.</h1>\n",
    "    {% for registro in lista %}\n",
    "        <p/>\n",
    "        <ul>\n",
    "            {% for campo, dato in registro%}\n",
    "                <li>{{ campo }}: {{ dato }} </li>\n",
    "            {% endfor %}\n",
    "        </ul>\n",
    "    {% endfor %}\n",
    "{% endblock %}\n",
    "```\n",
    "\n",
    "* Esta plantilla hereda a la plantilla ```base.html```.\n",
    "* Sustituye los contenidos de los bloques ```encabezado``` y ```cuerpo```."
   ]
  },
  {
   "cell_type": "markdown",
   "metadata": {},
   "source": [
    "* La siguiente celda copiará al archivo ```src/18/listado.html``` en el directorio ```tutorial/templates/```."
   ]
  },
  {
   "cell_type": "markdown",
   "metadata": {},
   "source": [
    "* Para las plataformas GNU/Linux y MacOS X."
   ]
  },
  {
   "cell_type": "code",
   "execution_count": null,
   "metadata": {},
   "outputs": [],
   "source": [
    "!cp src/18/listado.html tutorial/templates/"
   ]
  },
  {
   "cell_type": "markdown",
   "metadata": {},
   "source": [
    "* Para la plataforma Windows."
   ]
  },
  {
   "cell_type": "code",
   "execution_count": null,
   "metadata": {},
   "outputs": [],
   "source": [
    "!copy src\\18\\listado.html tutorial\\templates\\"
   ]
  },
  {
   "cell_type": "markdown",
   "metadata": {},
   "source": [
    "La siguiente celda mostrará los cambios al archivo ```tutorial/templates/```."
   ]
  },
  {
   "cell_type": "code",
   "execution_count": null,
   "metadata": {
    "scrolled": true
   },
   "outputs": [],
   "source": [
    "%pycat tutorial/templates/listado.html"
   ]
  },
  {
   "cell_type": "markdown",
   "metadata": {},
   "source": [
    "#### La plantilla ```valida.html```.\n",
    "\n",
    "La plantilla ```valida.html``` contiene el siguiente código:\n",
    "\n",
    "```html\n",
    "{% extends \"base.html\" %}\n",
    "{% block encabezado %}Alumnos validados{% endblock %}\n",
    "{% block cuerpo %}\n",
    "    <h1> Listado de alumnos validados.</h1>\n",
    "    {% for registro in lista %}\n",
    "        <p/>\n",
    "        <ul>\n",
    "            {% for dato in registro %}\n",
    "                <li>\n",
    "                    {%cycle 'Número de cuenta' 'Nombre' 'Primer apellido' 'Segundo apellido' 'Carrera' 'Semestre' 'Promedio' 'Al corriente' as encabezado %}: \n",
    "                    {% if encabezado == \"Al corriente\" %}\n",
    "                        {% if dato %}\n",
    "                            Alumno válido.\n",
    "                        {% else %}\n",
    "                            <b> Alumno inválido.</b>\n",
    "                        {% endif %}\n",
    "                    {% else %}\n",
    "                        {{ dato }}\n",
    "                    {% endif %}\n",
    "                </li>\n",
    "            {% endfor %}\n",
    "        </ul>\n",
    "    {% endfor %}\n",
    "{% endblock %}\n",
    "```\n",
    "\n",
    "* Esta plantilla hereda a la plantilla ```base.html```.\n",
    "* Sustituye los contenidos de los bloques ```encabezado``` y ```cuerpo```."
   ]
  },
  {
   "cell_type": "markdown",
   "metadata": {},
   "source": [
    "* La siguiente celda copiará al archivo ```src/18/valida.html``` en el directorio ```tutorial/templates/```."
   ]
  },
  {
   "cell_type": "code",
   "execution_count": null,
   "metadata": {},
   "outputs": [],
   "source": [
    "!cp src/18/valida.html tutorial/templates/"
   ]
  },
  {
   "cell_type": "code",
   "execution_count": null,
   "metadata": {},
   "outputs": [],
   "source": [
    "!copy src\\18\\valida.html tutorial\\templates\\"
   ]
  },
  {
   "cell_type": "code",
   "execution_count": null,
   "metadata": {
    "scrolled": true
   },
   "outputs": [],
   "source": [
    "%pycat tutorial/templates/valida.html"
   ]
  },
  {
   "cell_type": "markdown",
   "metadata": {},
   "source": [
    "* Se iniciará el servidor."
   ]
  },
  {
   "cell_type": "code",
   "execution_count": null,
   "metadata": {},
   "outputs": [],
   "source": [
    "%cd tutorial"
   ]
  },
  {
   "cell_type": "markdown",
   "metadata": {},
   "source": [
    "**ADVERTENCIAS:** \n",
    "\n",
    "* Al ejecutar la siguiente celda el servidor se inciará desde la notebook, por lo que para ejecutar cualquier otra celda es necesario interrumpir la ejecución del kernel.\n",
    "\n",
    "* Asegúrese que no haya otro servicio escuchando en el puerto *5000*."
   ]
  },
  {
   "cell_type": "code",
   "execution_count": null,
   "metadata": {
    "scrolled": true
   },
   "outputs": [],
   "source": [
    "!./manage.py runserver 0.0.0.0:8000"
   ]
  },
  {
   "cell_type": "markdown",
   "metadata": {},
   "source": [
    "Los resultados pueden ser vistos en las siguientes URLs.\n",
    "\n",
    "http://localhost:8000/api/vista/\n",
    "\n",
    "http://localhost:8000/api/valida/"
   ]
  },
  {
   "cell_type": "markdown",
   "metadata": {},
   "source": [
    "<p style=\"text-align: center\"><a rel=\"license\" href=\"http://creativecommons.org/licenses/by/4.0/\"><img alt=\"Licencia Creative Commons\" style=\"border-width:0\" src=\"https://i.creativecommons.org/l/by/4.0/80x15.png\" /></a><br />Esta obra está bajo una <a rel=\"license\" href=\"http://creativecommons.org/licenses/by/4.0/\">Licencia Creative Commons Atribución 4.0 Internacional</a>.</p>\n",
    "<p style=\"text-align: center\">&copy; José Luis Chiquete Valdivieso. 2019.</p>"
   ]
  }
 ],
 "metadata": {
  "kernelspec": {
   "display_name": "Python 3 (ipykernel)",
   "language": "python",
   "name": "python3"
  },
  "language_info": {
   "codemirror_mode": {
    "name": "ipython",
    "version": 3
   },
   "file_extension": ".py",
   "mimetype": "text/x-python",
   "name": "python",
   "nbconvert_exporter": "python",
   "pygments_lexer": "ipython3",
   "version": "3.9.2"
  }
 },
 "nbformat": 4,
 "nbformat_minor": 2
}
