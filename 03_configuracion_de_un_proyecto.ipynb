{
 "cells": [
  {
   "cell_type": "markdown",
   "metadata": {},
   "source": [
    "[![imagenes/pythonista.png](imagenes/pythonista.png)](https://pythonista.io)"
   ]
  },
  {
   "cell_type": "markdown",
   "metadata": {},
   "source": [
    "# Configuración inicial de un proyecto."
   ]
  },
  {
   "cell_type": "markdown",
   "metadata": {},
   "source": [
    "**ADVERTENCIA:** Es necesario haber creado previamente el proyecto definido en la notebook [```01_introduccion_a_django.ipynb```](01_introduccion_a_django.ipynb) localizado en el directorio [```tutorial```](tutorial)."
   ]
  },
  {
   "cell_type": "markdown",
   "metadata": {},
   "source": [
    "## El script ```settings.py```.\n",
    "\n",
    "La configuración básica de un proyecto de *Django* se encuentra en un script de *Python* llamado ```settings.py```, el cual también puede ser importado como un módulo.\n",
    "\n",
    "La documentación de la configuración de *Django* puede ser consultada en https://docs.djangoproject.com/en/3.0/ref/settings\n",
    "\n",
    "\n",
    "**Nota:** En el caso del proyecto creado previamente, dicho archivo se encuentra en ```tutorial/tutorial/settings.py```."
   ]
  },
  {
   "cell_type": "markdown",
   "metadata": {},
   "source": [
    "**Ejemplo:**\n",
    "\n",
    "* El \"comando mágico\" de *Jupyter* ```%pycat``` permite ver el contenido de un *script* de *Python* en una ventana del navegador.\n",
    "\n",
    "* La siguiente celda desplegará el contenido del archivo ```tutorial/tutorial/settings.py```.\n"
   ]
  },
  {
   "cell_type": "code",
   "execution_count": null,
   "metadata": {},
   "outputs": [],
   "source": [
    "%pycat tutorial/tutorial/settings.py"
   ]
  },
  {
   "cell_type": "markdown",
   "metadata": {},
   "source": [
    "* El archivo define diversas variables, las cuales se encuentran escritas en mayúsculas.\n",
    "\n",
    "* Cada variable definen ciertos parámetros de configuración del proyecto."
   ]
  },
  {
   "cell_type": "markdown",
   "metadata": {},
   "source": [
    "**Ejemplo:**"
   ]
  },
  {
   "cell_type": "markdown",
   "metadata": {},
   "source": [
    "* A continuación se importará al *script* ```tutorial/tutorial/settings.py``` como un módulo."
   ]
  },
  {
   "cell_type": "code",
   "execution_count": null,
   "metadata": {},
   "outputs": [],
   "source": [
    "from tutorial.tutorial import settings"
   ]
  },
  {
   "cell_type": "markdown",
   "metadata": {},
   "source": [
    "### La variable ```settings.DEBUG```.\n",
    "\n",
    "Esta variable corresponde a un objeto tipo ```bool```, el cual le indica al servidor de *Django* si se encuentra en un entorno de desarrollo y pruebas o en un entorno de producción."
   ]
  },
  {
   "cell_type": "code",
   "execution_count": null,
   "metadata": {},
   "outputs": [],
   "source": [
    "settings.DEBUG"
   ]
  },
  {
   "cell_type": "markdown",
   "metadata": {},
   "source": [
    "### La variable ```settings.SECRET_KEY```.\n",
    "\n",
    "Esta variable contiene una cadena de caracteres que fue creada junto con la estructura incial del proyecto, la cual será utilizada para autenticar y cifrar los accesos a las aplicaciones.\n",
    "\n",
    "**Nota:** Se recomienda que en entornos de producción la cadena de caracteres relacionada a ```settings.SECRET_KEY``` no se escriba directamemte en el script ```settings.py```."
   ]
  },
  {
   "cell_type": "code",
   "execution_count": null,
   "metadata": {},
   "outputs": [],
   "source": [
    "settings.SECRET_KEY"
   ]
  },
  {
   "cell_type": "markdown",
   "metadata": {},
   "source": [
    "### La variable ```settings.BASE_DIR```.\n",
    "\n",
    "Esta variable define la ruta en la que se encuentra el directorio de origen del proyecto."
   ]
  },
  {
   "cell_type": "code",
   "execution_count": null,
   "metadata": {},
   "outputs": [],
   "source": [
    "settings.BASE_DIR"
   ]
  },
  {
   "cell_type": "markdown",
   "metadata": {},
   "source": [
    "### La variable ```settings.ROOT_URLCONF```.\n",
    "\n",
    "Define la ruta en la que se puede acceder al módulo principal de configuración de *URLs*."
   ]
  },
  {
   "cell_type": "code",
   "execution_count": null,
   "metadata": {},
   "outputs": [],
   "source": [
    "settings.ROOT_URLCONF"
   ]
  },
  {
   "cell_type": "markdown",
   "metadata": {},
   "source": [
    "### La variable ```settings.TEMPLATES```.\n",
    "\n",
    "Esta variable define la localización y los componentes que gestionarán las plantillas del proyecto. "
   ]
  },
  {
   "cell_type": "code",
   "execution_count": null,
   "metadata": {},
   "outputs": [],
   "source": [
    "settings.TEMPLATES"
   ]
  },
  {
   "cell_type": "markdown",
   "metadata": {},
   "source": [
    "### La variable ```settings.DATABASE```.\n",
    "\n",
    "Esta variable define las conexiones a bases de datos de la aplicación.\n",
    "\n",
    "Para este proyecto se creó el archivo ```tutorial/db.sqlite3```, el cual corresponde a una base de datos de [*SQLite*](https://www.sqlite.org/index.html).\n",
    "\n",
    "Para saber más sobre *SQLite*, es posible consultar el tutorial localizado en http://www.sqlitetutorial.net/."
   ]
  },
  {
   "cell_type": "code",
   "execution_count": null,
   "metadata": {},
   "outputs": [],
   "source": [
    "settings.DATABASES"
   ]
  },
  {
   "cell_type": "markdown",
   "metadata": {},
   "source": [
    "### La variable ```settings.INSTALLED_APPS```.\n",
    "\n",
    "Esta variable define a las diversas aplicaciones que puede utilizar el proyecto.\n",
    "\n",
    "https://docs.djangoproject.com/en/3.0/ref/applications/"
   ]
  },
  {
   "cell_type": "code",
   "execution_count": null,
   "metadata": {},
   "outputs": [],
   "source": [
    "settings.INSTALLED_APPS"
   ]
  },
  {
   "cell_type": "markdown",
   "metadata": {},
   "source": [
    "### La variable ``` settings.MIDDLEWARE```.\n",
    "\n",
    "Define aquellos componentes que se ejecutan cuando el servidor y el cliente interactúan independientemente de la aplicacion que se esté ejecutando.\n",
    "\n",
    "https://docs.djangoproject.com/en/3.2/ref/middleware/#module-django.middleware"
   ]
  },
  {
   "cell_type": "code",
   "execution_count": null,
   "metadata": {},
   "outputs": [],
   "source": [
    "settings.MIDDLEWARE"
   ]
  },
  {
   "cell_type": "markdown",
   "metadata": {},
   "source": [
    "### La variable ``` settings.STATIC_URL```.\n",
    "\n",
    "Define las rutas en las que se encuentra el contenido estático del proyecto. Más adelante se tratará el tema de contenido estático."
   ]
  },
  {
   "cell_type": "code",
   "execution_count": null,
   "metadata": {},
   "outputs": [],
   "source": [
    "settings.STATIC_URL"
   ]
  },
  {
   "cell_type": "markdown",
   "metadata": {},
   "source": [
    "### La variable ```settings.WSGI_APPLICATION```.\n",
    "\n",
    "Define el recurso encargado de gestionar las conexiones web mediante [```WSGI```](https://en.wikipedia.org/wiki/Web_Server_Gateway_Interface)."
   ]
  },
  {
   "cell_type": "code",
   "execution_count": null,
   "metadata": {},
   "outputs": [],
   "source": [
    "settings.WSGI_APPLICATION"
   ]
  },
  {
   "cell_type": "markdown",
   "metadata": {},
   "source": [
    "## Despliegue en producción.\n",
    "\n",
    "*Django* puede ser configurado de tal forma que pueda ejecutrase en un entorno de desarrollo y pruebas o en un entorno de producción.\n",
    "\n",
    "La siguiente liga muestra una serie de sugerencia en caso de publicar un proyecto en un entorno de producción.\n",
    "\n",
    "https://docs.djangoproject.com/en/3.0/howto/deployment/checklist/"
   ]
  },
  {
   "cell_type": "markdown",
   "metadata": {},
   "source": [
    "<p style=\"text-align: center\"><a rel=\"license\" href=\"http://creativecommons.org/licenses/by/4.0/\"><img alt=\"Licencia Creative Commons\" style=\"border-width:0\" src=\"https://i.creativecommons.org/l/by/4.0/80x15.png\" /></a><br />Esta obra está bajo una <a rel=\"license\" href=\"http://creativecommons.org/licenses/by/4.0/\">Licencia Creative Commons Atribución 4.0 Internacional</a>.</p>\n",
    "<p style=\"text-align: center\">&copy; José Luis Chiquete Valdivieso. 2021.</p>"
   ]
  }
 ],
 "metadata": {
  "kernelspec": {
   "display_name": "Python 3 (ipykernel)",
   "language": "python",
   "name": "python3"
  },
  "language_info": {
   "codemirror_mode": {
    "name": "ipython",
    "version": 3
   },
   "file_extension": ".py",
   "mimetype": "text/x-python",
   "name": "python",
   "nbconvert_exporter": "python",
   "pygments_lexer": "ipython3",
   "version": "3.9.2"
  }
 },
 "nbformat": 4,
 "nbformat_minor": 2
}
