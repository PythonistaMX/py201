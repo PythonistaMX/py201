{
 "cells": [
  {
   "cell_type": "markdown",
   "metadata": {},
   "source": [
    "[![imagenes/pythonista.png](imagenes/pythonista.png)](https://pythonista.io)"
   ]
  },
  {
   "cell_type": "markdown",
   "metadata": {},
   "source": [
    "# Creación de una *API REST*."
   ]
  },
  {
   "cell_type": "markdown",
   "metadata": {},
   "source": [
    "**ADVERTENCIA:**  \n",
    "\n",
    "Para poder realizar exitosamente los ejercicios de esta notebook, es necesario haber seguido al pie de la letra y en orden sucesivo las instrucciones de todas las notebooks previas."
   ]
  },
  {
   "cell_type": "markdown",
   "metadata": {},
   "source": [
    "En este capítulo se estudiarán los métodos más simples de operación de modelos en una base de datos. \n",
    "\n",
    "https://docs.djangoproject.com/en/3.0/topics/db/queries/"
   ]
  },
  {
   "cell_type": "markdown",
   "metadata": {},
   "source": [
    "## Operaciones de objetos instanciados de modelos."
   ]
  },
  {
   "cell_type": "markdown",
   "metadata": {},
   "source": [
    "### Instanciamiento de un objeto a partir de un modelo.\n",
    "\n",
    "Para instanciar un objeto a partir de un modelo es necesario importar la clase correspondiente, que por lo general se encuentra en el archivo ```models.py``` de la aplicación correspondiente.\n",
    "\n",
    "Es posible asignar los valores a los atributos del objeto instanciado al ingresarlos como argumentos.\n",
    "\n",
    "``` \n",
    "Modelo(<atributos>)\n",
    "```\n",
    "\n"
   ]
  },
  {
   "cell_type": "markdown",
   "metadata": {},
   "source": [
    "### El método ``save()``.\n",
    "\n",
    "Cada objeto instanciado de un modelo cuenta con el método ```save()```, el cual permite actualizar  su estado dentro del registro correspondiente en la base de datos."
   ]
  },
  {
   "cell_type": "markdown",
   "metadata": {},
   "source": [
    "### El método ```delete()```.\n",
    "\n",
    "Cada objeto instanciado de un modelo cuenta con el atributo ```delete()```, el cual permite eliminar el registro correspondiente en la base de datos."
   ]
  },
  {
   "cell_type": "markdown",
   "metadata": {},
   "source": [
    "## Atributo de clase ```django.db.Model.objects```.\n",
    "\n",
    "Este artibuto de clase permite gestionar las relaciones de tanto de los objetos instanciados del modelo como de sus registros correspondientes en una base de datos.\n",
    "\n",
    "* Crear objetos y ligarlos a la base de datos. \n",
    "* Realizar consultas con respecto a todos los objetos instanciados.\n",
    "* Modificar objetos y reflejarlo en la base de datos.\n",
    "* Eliminar objetos de la base de datos."
   ]
  },
  {
   "cell_type": "markdown",
   "metadata": {},
   "source": [
    "## Métodos de ```django.db.Model.objects```.\n",
    "\n",
    "* ```all()``` va a traer un iterador que contiene a todos los objetos instanciados de la subclase de ```django.db.Model```.\n",
    "* ```get()``` va a traer a un objeto que cumpla con una expresión.\n",
    "* ```filter()``` realiza búsquedas mediante expresiones lógicas."
   ]
  },
  {
   "cell_type": "markdown",
   "metadata": {},
   "source": [
    "## Creación de una API con modelos.\n",
    "\n",
    "A continuación se creará una nueva aplicación llamada ```api``` dentro del proyecto ```tutorial```, la cual tendrá dos *endpoints* definidos en ```api/views.py```:\n",
    "\n",
    "* La URL ```api/carga``` ligada a la función ```api.views.carga()```, la cual:\n",
    "    * Cargará un archivo en formato *JSON* y creará una lista de objetos tipo ```dict``` en cada campo corresponde a un atributo del modelo ```api/models/Alumno```.\n",
    "    * Instanciará los objetos utilizando los datos de cada objeto ```dict```.\n",
    "    * Guardará los estados de los objetos en la base de datos.\n",
    "* La URL ```api/``` ligada a la función ```api.views.vista()```, la cual regresará el estado de todos los objetos instanciados del modelo ```api.models.Alumnos``` contenidos en la base de datos en formato *JSON*.\n"
   ]
  },
  {
   "cell_type": "markdown",
   "metadata": {},
   "source": [
    "### Archivo fuente.\n",
    "\n",
    "El archivo ```src/14/alumnos.json``` contiene lo siguiente:"
   ]
  },
  {
   "cell_type": "markdown",
   "metadata": {},
   "source": [
    "```javascript\n",
    "[{\"numero_de_cuenta\": 1221, \"al_corriente\": false, \"carrera\": \"Arquitectura\", \"nombre\": \"Pedro\", \"primer_apellido\": \"Solis\", \"promedio\": 7.8, \"semestre\": 3, \"segundo_apellido\": \"Cabañas\"},\n",
    " {\"numero_de_cuenta\": 1222, \"al_corriente\": false, \"carrera\": \"Actuaría\", \"nombre\": \"Yolanda\", \"primer_apellido\": \"Jiménez\",  \"segundo_apellido\": \"Lerdo\", \"promedio\": 6, \"semestre\": 3},\n",
    " {\"numero_de_cuenta\": 1223, \"al_corriente\": true, \"carrera\": \"Sistemas\", \"nombre\": \"Juan\", \"primer_apellido\": \"Ramos\",  \"segundo_apellido\": \"Breña\", \"promedio\": 8.6, \"semestre\": 9}, \n",
    " {\"numero_de_cuenta\": 1224, \"al_corriente\": true, \"carrera\": \"Derecho\", \"nombre\": \"Mayra Jimena\", \"primer_apellido\": \"Cervantes\",  \"segundo_apellido\": \"Lisama\", \"promedio\": 9.2, \"semestre\": 12}]\n",
    "```"
   ]
  },
  {
   "cell_type": "markdown",
   "metadata": {},
   "source": [
    "* Copiar el archvo ```src/14/alumnos.json``` al directorio base del proyecto ```tutorial```."
   ]
  },
  {
   "cell_type": "markdown",
   "metadata": {},
   "source": [
    "* Para las plataformas GNU/Linux y MacOS X."
   ]
  },
  {
   "cell_type": "code",
   "execution_count": null,
   "metadata": {
    "scrolled": true
   },
   "outputs": [],
   "source": [
    "!cp src/14/alumnos.json tutorial/alumnos.json"
   ]
  },
  {
   "cell_type": "markdown",
   "metadata": {},
   "source": [
    "* Para la plataforma Windows."
   ]
  },
  {
   "cell_type": "code",
   "execution_count": null,
   "metadata": {},
   "outputs": [],
   "source": [
    "!copy src\\14\\alumnos.json tutorial\\alumnos.json"
   ]
  },
  {
   "cell_type": "markdown",
   "metadata": {},
   "source": [
    "### Creación de una nueva aplicación."
   ]
  },
  {
   "cell_type": "markdown",
   "metadata": {},
   "source": [
    "* Crear una nueva aplicación llamada ```api```."
   ]
  },
  {
   "cell_type": "code",
   "execution_count": null,
   "metadata": {},
   "outputs": [],
   "source": [
    "%cd tutorial"
   ]
  },
  {
   "cell_type": "code",
   "execution_count": null,
   "metadata": {},
   "outputs": [],
   "source": [
    "!tree"
   ]
  },
  {
   "cell_type": "code",
   "execution_count": null,
   "metadata": {
    "scrolled": true
   },
   "outputs": [],
   "source": [
    "!python manage.py startapp api"
   ]
  },
  {
   "cell_type": "code",
   "execution_count": null,
   "metadata": {},
   "outputs": [],
   "source": [
    "!tree"
   ]
  },
  {
   "cell_type": "markdown",
   "metadata": {},
   "source": [
    "* La aplicación tendrá una estructura similar a la siguiente:"
   ]
  },
  {
   "cell_type": "markdown",
   "metadata": {},
   "source": [
    "* El archivo ```src/14/settings.py``` agrega el proyecto ```api``` a ```INSTALLED_APPS```.\n",
    "\n",
    "``` python\n",
    "INSTALLED_APPS = [\n",
    "    'django.contrib.admin',\n",
    "    'django.contrib.auth',\n",
    "    'django.contrib.contenttypes',\n",
    "    'django.contrib.sessions',\n",
    "    'django.contrib.messages',\n",
    "    'django.contrib.staticfiles',\n",
    "    'main',\n",
    "    'api',\n",
    "]\n",
    "```"
   ]
  },
  {
   "cell_type": "markdown",
   "metadata": {},
   "source": [
    "* El archivo ```tutorial/settings.py``` será sustituido por ```src/14/settings.py```."
   ]
  },
  {
   "cell_type": "markdown",
   "metadata": {},
   "source": [
    "* Para las plataformas basadas en GNU/Linux y MacOS X."
   ]
  },
  {
   "cell_type": "code",
   "execution_count": null,
   "metadata": {
    "scrolled": true
   },
   "outputs": [],
   "source": [
    "!cp ../src/14/settings.py tutorial/settings.py"
   ]
  },
  {
   "cell_type": "markdown",
   "metadata": {},
   "source": [
    "* Para la plataforma basada en Windows."
   ]
  },
  {
   "cell_type": "code",
   "execution_count": null,
   "metadata": {},
   "outputs": [],
   "source": [
    "!copy ..\\src\\14\\settings.py tutorial\\settings.py"
   ]
  },
  {
   "cell_type": "markdown",
   "metadata": {},
   "source": [
    "* La sustitución del archivo ```tutorial/settings.py``` puede ser verificada ejecutando la siguiente celda."
   ]
  },
  {
   "cell_type": "code",
   "execution_count": null,
   "metadata": {
    "scrolled": true
   },
   "outputs": [],
   "source": [
    "%pycat tutorial/settings.py"
   ]
  },
  {
   "cell_type": "markdown",
   "metadata": {},
   "source": [
    "### Definición de las URLs en el archivo ```tutorial/urls.py```.\n",
    "\n",
    "* El archivo  ```src/14/tutorial_urls.py``` contiene lo siguiente:\n",
    "\n",
    "``` python\n",
    "from django.contrib import admin\n",
    "from django.urls import include, path\n",
    "\n",
    "urlpatterns = [path('admin/', admin.site.urls), \n",
    "               path('main/', include('main.urls')),\n",
    "               path('api/', include('api.urls')),\n",
    "              ]\n",
    "``` "
   ]
  },
  {
   "cell_type": "markdown",
   "metadata": {},
   "source": [
    "* El archivo ```tutorial/urls.py``` será sustituido por ```src/14/tutorial_urls.py```."
   ]
  },
  {
   "cell_type": "markdown",
   "metadata": {},
   "source": [
    "* Para las plataformas basadas en GNU/Linux y MacOS X."
   ]
  },
  {
   "cell_type": "code",
   "execution_count": null,
   "metadata": {
    "scrolled": true
   },
   "outputs": [],
   "source": [
    "%cp ../src/14/tutorial_urls.py tutorial/urls.py"
   ]
  },
  {
   "cell_type": "markdown",
   "metadata": {},
   "source": [
    "* Para la plataforma basada en Windows."
   ]
  },
  {
   "cell_type": "code",
   "execution_count": null,
   "metadata": {},
   "outputs": [],
   "source": [
    "%copy ..\\src\\14\\tutorial_urls.py tutorial\\urls.py"
   ]
  },
  {
   "cell_type": "markdown",
   "metadata": {},
   "source": [
    "* La sustitución del archivo ```tutorial/urls.py``` será visible ejecutando la siguiente celda."
   ]
  },
  {
   "cell_type": "code",
   "execution_count": null,
   "metadata": {},
   "outputs": [],
   "source": [
    "%pycat tutorial/urls.py"
   ]
  },
  {
   "cell_type": "markdown",
   "metadata": {},
   "source": [
    "* El archivo ```src/14/api_urls.py``` contiene lo siguiente:\n",
    "\n",
    "``` python\n",
    "from django.urls import path\n",
    "form . import views\n",
    "\n",
    "urlpatterns = [path('', views.vista),\n",
    "    path('carga', views.carga),]\n",
    "```"
   ]
  },
  {
   "cell_type": "markdown",
   "metadata": {},
   "source": [
    "* El archivo ```api/urls.py``` será sustituido por ```src/14/tutorial_urls.py```."
   ]
  },
  {
   "cell_type": "markdown",
   "metadata": {},
   "source": [
    "* Para las plataformas basadas en GNU/Linux y MacOS X."
   ]
  },
  {
   "cell_type": "code",
   "execution_count": null,
   "metadata": {
    "scrolled": true
   },
   "outputs": [],
   "source": [
    "!cp ../src/14/api_urls.py api/urls.py"
   ]
  },
  {
   "cell_type": "markdown",
   "metadata": {},
   "source": [
    "* Para la plataforma basada en Windows."
   ]
  },
  {
   "cell_type": "code",
   "execution_count": null,
   "metadata": {},
   "outputs": [],
   "source": [
    "!copy ..\\src\\14\\api_urls.py api\\urls.py"
   ]
  },
  {
   "cell_type": "markdown",
   "metadata": {},
   "source": [
    "* La sustitución del archivo ```api/urls.py``` puede ser verificada ejecutando la siguiente celda."
   ]
  },
  {
   "cell_type": "code",
   "execution_count": null,
   "metadata": {},
   "outputs": [],
   "source": [
    "%pycat api/urls.py"
   ]
  },
  {
   "cell_type": "markdown",
   "metadata": {},
   "source": [
    "### Definición del modelo en el archivo ```api/models.py```.\n",
    "\n",
    "* El archivo ```src/14/models.py``` contiene:\n",
    "\n",
    "``` python\n",
    "from django.db import models\n",
    "\n",
    "class Alumno(models.Model):\n",
    "    numero_de_cuenta = models.PositiveIntegerField(unique=True)\n",
    "    nombre = models.CharField(max_length=50)\n",
    "    primer_apellido = models.CharField(max_length=50)\n",
    "    segundo_apellido = models.CharField(max_length=50)\n",
    "    carrera = models.CharField(max_length=20)\n",
    "    semestre = models.PositiveIntegerField(default=0)\n",
    "    promedio = models.FloatField(default=0)\n",
    "    al_corriente = models.BooleanField(default=True)\n",
    "```"
   ]
  },
  {
   "cell_type": "markdown",
   "metadata": {},
   "source": [
    "* El archivo ```api/models.py``` será sustituido por el archivo ```src/14/models.py```."
   ]
  },
  {
   "cell_type": "markdown",
   "metadata": {},
   "source": [
    "* Para las plataformas basadas en GNU/Linux y MacOS X."
   ]
  },
  {
   "cell_type": "code",
   "execution_count": null,
   "metadata": {
    "scrolled": true
   },
   "outputs": [],
   "source": [
    "!cp ../src/14/models.py api/models.py"
   ]
  },
  {
   "cell_type": "markdown",
   "metadata": {},
   "source": [
    "* Para la plataforma basada en Windows."
   ]
  },
  {
   "cell_type": "code",
   "execution_count": null,
   "metadata": {},
   "outputs": [],
   "source": [
    "!copy ..\\src\\14\\models.py api\\models.py"
   ]
  },
  {
   "cell_type": "markdown",
   "metadata": {},
   "source": [
    "* La sustitución del archivo ```api/models.py``` puede ser verificada ejecutando la siguiente celda."
   ]
  },
  {
   "cell_type": "code",
   "execution_count": null,
   "metadata": {},
   "outputs": [],
   "source": [
    "%pycat api/models.py"
   ]
  },
  {
   "cell_type": "markdown",
   "metadata": {},
   "source": [
    "### Definición de las funciones de vista en el archivo ```api/views.py```.\n",
    "\n",
    "* El archivo ```src/14/views.py``` contiene las funciones de vista de la API.\n",
    "\n",
    "``` python\n",
    "from . import models\n",
    "from django.http import JsonResponse\n",
    "import json\n",
    "\n",
    "campos = {'numero_de_cuenta':int, 'nombre':str, 'primer_apellido':str,\n",
    "          'segundo_apellido':str, 'carrera':str, 'semestre':int, 'promedio':float,\n",
    "          'al_corriente':bool}\n",
    "\n",
    "def carga(request):\n",
    "    '''Función encargada de crear objetos instaciados de models.Alumno y de poblar la base de datos.'''\n",
    "    # Carga los datos de un archivo JSON\n",
    "    with open('alumnos.json', 'tr') as archivo:\n",
    "        alumnos = json.load(archivo)\n",
    "    #Crea un objeto a partir de cada elemento tipo dict de alumnos\n",
    "    for registro in alumnos:\n",
    "        # Crea un objeto instanciando la clase Alumno\n",
    "        objeto = models.Alumno()\n",
    "        # Asigna cada campo a su atributo correspondiente\n",
    "        for campo in registro:\n",
    "            setattr(objeto, campo, registro[campo])\n",
    "        # Guarda a la base dce datos.\n",
    "        objeto.save()\n",
    "    #Regresa la relaciónde alumnos dados de alta.\n",
    "    return JsonResponse({'respuesta':alumnos})\n",
    "  \n",
    "    \n",
    "def vista(request):\n",
    "    return JsonResponse({'respuesta':[{campo:getattr(alumno, campo) for campo in campos} for alumno in models.Alumno.objects.all()]})\n",
    "```"
   ]
  },
  {
   "cell_type": "markdown",
   "metadata": {},
   "source": [
    "* El archivo ```api/views.py``` será sustituido por el archivo ```src/14/views.py```."
   ]
  },
  {
   "cell_type": "markdown",
   "metadata": {},
   "source": [
    "* Para las plataformas basadas en GNU/Linux y MacOS X."
   ]
  },
  {
   "cell_type": "code",
   "execution_count": null,
   "metadata": {
    "scrolled": true
   },
   "outputs": [],
   "source": [
    "!cp ../src/14/views.py api/views.py"
   ]
  },
  {
   "cell_type": "markdown",
   "metadata": {},
   "source": [
    "* Para la plataforma basada en Windows."
   ]
  },
  {
   "cell_type": "code",
   "execution_count": null,
   "metadata": {},
   "outputs": [],
   "source": [
    "!copy ..\\src\\14\\views.py api\\views.py"
   ]
  },
  {
   "cell_type": "markdown",
   "metadata": {},
   "source": [
    "* La sustitución del archivo ```api/views.py``` puede ser verificada ejecutando la siguiente celda."
   ]
  },
  {
   "cell_type": "code",
   "execution_count": null,
   "metadata": {},
   "outputs": [],
   "source": [
    "%pycat api/views.py"
   ]
  },
  {
   "cell_type": "markdown",
   "metadata": {},
   "source": [
    "### Inicio del servicio."
   ]
  },
  {
   "cell_type": "code",
   "execution_count": null,
   "metadata": {},
   "outputs": [],
   "source": [
    "!tree api"
   ]
  },
  {
   "cell_type": "code",
   "execution_count": null,
   "metadata": {
    "scrolled": true
   },
   "outputs": [],
   "source": [
    "!python manage.py makemigrations"
   ]
  },
  {
   "cell_type": "code",
   "execution_count": null,
   "metadata": {},
   "outputs": [],
   "source": [
    "! tree api"
   ]
  },
  {
   "cell_type": "code",
   "execution_count": null,
   "metadata": {
    "scrolled": true
   },
   "outputs": [],
   "source": [
    "!python manage.py migrate"
   ]
  },
  {
   "cell_type": "markdown",
   "metadata": {},
   "source": [
    "**ADVERTENCIAS:** \n",
    "\n",
    "* Al ejecutar la siguiente celda el servidor se inciará desde la notebook, por lo que para ejecutar cualquier otra celda es necesario interrumpir la ejecución del kernel.\n",
    "\n",
    "* Asegúrese que no haya otro servicio escuchando en el puerto *5000*."
   ]
  },
  {
   "cell_type": "code",
   "execution_count": null,
   "metadata": {
    "scrolled": false
   },
   "outputs": [],
   "source": [
    "! ./manage.py runserver 0.0.0.0:8000"
   ]
  },
  {
   "cell_type": "markdown",
   "metadata": {},
   "source": [
    "* El *endpoint* http://localhost:8000/api/carga cargará los datos, creará los objetos y poblará la base de datos. \n",
    "\n",
    "**ADVERTENCIA:** El *endpoint* previo sólo debe de usarse una vez. "
   ]
  },
  {
   "cell_type": "markdown",
   "metadata": {},
   "source": [
    "* El *endpoint* http://localhost:8000/api/ regresará el estado de todos los objetos en formato *JSON*."
   ]
  },
  {
   "cell_type": "markdown",
   "metadata": {},
   "source": [
    "### Efecto en la base de datos.\n",
    "\n",
    "El *endpoint* de carga creó y pobló la tabla ```api_alumno``` en la base ```db_django```."
   ]
  },
  {
   "cell_type": "code",
   "execution_count": null,
   "metadata": {},
   "outputs": [],
   "source": [
    "%load_ext sql"
   ]
  },
  {
   "cell_type": "code",
   "execution_count": null,
   "metadata": {},
   "outputs": [],
   "source": [
    "%sql sqlite:///db.sqlite3"
   ]
  },
  {
   "cell_type": "markdown",
   "metadata": {},
   "source": [
    "* La siguiente celda desplegará el contenido de la tabla ```api_alumno```."
   ]
  },
  {
   "cell_type": "code",
   "execution_count": null,
   "metadata": {},
   "outputs": [],
   "source": [
    "%sql SELECT * FROM api_alumno;"
   ]
  },
  {
   "cell_type": "markdown",
   "metadata": {},
   "source": [
    "<p style=\"text-align: center\"><a rel=\"license\" href=\"http://creativecommons.org/licenses/by/4.0/\"><img alt=\"Licencia Creative Commons\" style=\"border-width:0\" src=\"https://i.creativecommons.org/l/by/4.0/80x15.png\" /></a><br />Esta obra está bajo una <a rel=\"license\" href=\"http://creativecommons.org/licenses/by/4.0/\">Licencia Creative Commons Atribución 4.0 Internacional</a>.</p>\n",
    "<p style=\"text-align: center\">&copy; José Luis Chiquete Valdivieso. 2020.</p>"
   ]
  }
 ],
 "metadata": {
  "kernelspec": {
   "display_name": "Python 3 (ipykernel)",
   "language": "python",
   "name": "python3"
  },
  "language_info": {
   "codemirror_mode": {
    "name": "ipython",
    "version": 3
   },
   "file_extension": ".py",
   "mimetype": "text/x-python",
   "name": "python",
   "nbconvert_exporter": "python",
   "pygments_lexer": "ipython3",
   "version": "3.9.2"
  }
 },
 "nbformat": 4,
 "nbformat_minor": 2
}
