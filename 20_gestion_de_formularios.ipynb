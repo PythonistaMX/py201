{
 "cells": [
  {
   "cell_type": "markdown",
   "metadata": {},
   "source": [
    "[![imagenes/pythonista.png](imagenes/pythonista.png)](https://pythonista.io)"
   ]
  },
  {
   "cell_type": "markdown",
   "metadata": {},
   "source": [
    "# Gestión de formularios."
   ]
  },
  {
   "cell_type": "markdown",
   "metadata": {},
   "source": [
    "**ADVERTENCIA:**  \n",
    "\n",
    "Para poder realizar exitosamente los ejercicios de esta notebook, es necesario haber seguido al pie de la letra y en orden sucesivo las instrucciones de todas las notebooks previas."
   ]
  },
  {
   "cell_type": "markdown",
   "metadata": {},
   "source": [
    "https://docs.djangoproject.com/en/3.0/topics/forms/"
   ]
  },
  {
   "cell_type": "markdown",
   "metadata": {},
   "source": [
    "## Formularios en *HTML*.\n",
    "\n",
    "Las formularios en HTML se definen mediante la etiqueta ```<form>``` de la siguiente forma:\n",
    "\n",
    "```\n",
    "<form action=\"[acción]\" method=\"[método]\">\n",
    "...\n",
    "...\n",
    "</form>\n",
    "```\n",
    "\n",
    "Donde: \n",
    "\n",
    "* ```[acción]``` puede ser:\n",
    "    * Una *URL* a la que se enviarán los datos obtenidos.\n",
    "    * La referencia a una función, generalmente de *Javascript*, capaz de procesar los datos obtenidos.\n",
    "* ```[método]``` define al método  que se utilizará para enviar los datos del formulario y puede ser ```GET``` o ```POST```.\n",
    "   \n",
    "Las etiquetas ```<form>``` sirven como contenedores para otras etiquetas *HTML* que pueden interactura con el usuario para ingresaqr datos. La etiqueta más común es ```<input>```.\n",
    "\n",
    "\n",
    "Para mayor referencia consultar en https://www.w3schools.com/html/html_forms.asp"
   ]
  },
  {
   "cell_type": "markdown",
   "metadata": {},
   "source": [
    "## Elementos de un formulario en *Django*.\n",
    "\n",
    "*Django* puede crear y gestionar formularios mediante los siguientes elementos.\n",
    " \n",
    "* Formularios (\"forms\"), los cuales son contendores para campos específicos.\n",
    "* Campos (\"fields\"), los cuales corresponden a los datos que serán obtenidos de las formas.\n",
    "* \"Widgets\", los cuales definen el tipo de elemento del front-end con el que se obtendrán los datos. \n",
    "* Validadores, los cuales permiten realizar valdiaciones de los datos ingresados."
   ]
  },
  {
   "cell_type": "markdown",
   "metadata": {},
   "source": [
    "## Los scripts ```forms.py```.\n",
    "\n",
    "Los scripts ```forms.py``` contienen las definiciones de formularios de una aplicación."
   ]
  },
  {
   "cell_type": "markdown",
   "metadata": {},
   "source": [
    "## El módulo ```django.forms``` .\n",
    "\n",
    "El módulo ```django.forms``` contiene una biblioteca de elementos que permiten generar diversos tipos de formularios."
   ]
  },
  {
   "cell_type": "markdown",
   "metadata": {},
   "source": [
    "## Las clases para generación de formas.\n",
    "\n",
    "Los formularios pueden ser diseñados a partir de dos clases:\n",
    "\n",
    "* La clase ```django.forms.Form```.\n",
    "* La clase ```django.forms.ModelForm```."
   ]
  },
  {
   "cell_type": "markdown",
   "metadata": {},
   "source": [
    "### La clase ```django.forms.Form```.\n",
    "\n",
    "La clase ```django.forms.Form``` es la clase base para la creación de formularios. A partir de sus subclases es posible diseñar otros formularios.\n",
    "\n",
    "Esta clase permite diseñar formularios tradicionales en los que es posible ejecutar una acción una vez que se obtiene la información.\n",
    "\n",
    "\n",
    "```\n",
    "<Clase>(Form):\n",
    "    <campo 1> = <tipo de campo>(kwargs)\n",
    "    <campo 2> = <tipo de campo>(kwargs)\n",
    "    ...\n",
    "    ...\n",
    "    <campo n> = <tipo de campo>(kwargs)\n",
    "```\n",
    "\n",
    "Para mayor referencia sobre esta clase  se puede consultar la siguiente liga:\n",
    "\n",
    "https://docs.djangoproject.com/en/3.2/ref/forms/api/#django.forms.Form"
   ]
  },
  {
   "cell_type": "markdown",
   "metadata": {},
   "source": [
    "### La clase ```django.forms.ModelForm```.\n",
    "\n",
    "Esta clase crea objetos a partir de un modelos similares a los definidos con ```dango.db.models.Model```, de tal forma que los datos son guardados como el estado de un modelo.\n",
    "\n",
    "```\n",
    "<Clase>(ModelForm):\n",
    "    <campo 1> = <tipo de campo>(kwargs)\n",
    "    <campo 2> = <tipo de campo>(kwargs)\n",
    "    ...\n",
    "    ...\n",
    "    <campo n> = <tipo de campo>(kwargs)\n",
    "```\n",
    "\n",
    "Para mayor referencia sobre esta clase se puede consultar la siguiente liga:\n",
    "\n",
    "https://docs.djangoproject.com/en/3.2/topics/forms/modelforms/#django.forms.ModelForm"
   ]
  },
  {
   "cell_type": "markdown",
   "metadata": {},
   "source": [
    "## Los campos.\n",
    "\n",
    "Los campos corresponden a los atributos de las subclases de  ```django.forms.Form``` y  ```django.forms.ModelForm```.\n",
    "\n",
    "Los tipos de campos de las formas son muy similares a los tipos de campos de los modelos. \n",
    "\n",
    "Para mayor referencia sobre esta clase se puede consultar la siguiente liga:\n",
    "\n",
    "https://docs.djangoproject.com/en/3.2/ref/forms/fields/#built-in-field-classes\n",
    "\n",
    "Cada uno de los campos tiene un \"widget\" definido por defecto. "
   ]
  },
  {
   "cell_type": "markdown",
   "metadata": {},
   "source": [
    "## Los \"widgets\" de los campos.\n",
    "\n",
    "Los widgets son porciones de código HTML que despliegan un campo de una forma particular. \n",
    "\n",
    "La clase base de los widgets es ```django.forms.Widget```. A partir de esta clase se han desarrollado diversos tipos de widgets.\n",
    "\n",
    "https://docs.djangoproject.com/en/3.2/ref/forms/widgets/#widget\n",
    "\n",
    "\n",
    "## Tipos de widgets.\n",
    "\n",
    "Además del widget por defecto, es posible definir el tipo de widget de un campo.\n",
    "\n",
    "\n",
    "```\n",
    "<clase de formulario>(ModelForm):\n",
    "    ...\n",
    "    ...\n",
    "    <campo> = <tipo de campo>(kwargs, widget=<Tipo de widget> )\n",
    "    ...\n",
    "    ...\n",
    "```\n",
    "\n",
    "En la siguiente liga está disponible una relación de widgets de *Django.*\n",
    "\n",
    "https://docs.djangoproject.com/en/3.2/ref/forms/widgets/#built-in-widgets\n",
    "\n",
    "\n",
    "Para mayor referencia puede consultar la siguiente liga:\n",
    "\n",
    "\n",
    "https://docs.djangoproject.com/en/3.2/ref/forms/widgets/"
   ]
  },
  {
   "cell_type": "markdown",
   "metadata": {},
   "source": [
    "## Validadores.\n",
    "\n",
    "Los validadores definen condiciones que debe de cumplir el dato que se ingresa.\n",
    "\n",
    "```\n",
    "<clase de formulario>(ModelForm):\n",
    "    ...\n",
    "    ...\n",
    "    <campo> = <tipo de campo>(kwargs, validators=[<validador 1>, <validador 2>,..., <validador n>, ])\n",
    "    ...\n",
    "    ...\n",
    "```\n",
    "\n",
    "Para conocer el listado de validadores disponibles puede consultar la siguiente liga:\n",
    "\n",
    "https://docs.djangoproject.com/en/3.2/ref/validators/#built-in-validators\n",
    "\n",
    "\n",
    "Para mayor referencia peude consultar la siguiente liga:\n",
    "\n",
    "https://docs.djangoproject.com/en/3.2/ref/validators/"
   ]
  },
  {
   "cell_type": "markdown",
   "metadata": {},
   "source": [
    "### Métodos de las formas.\n",
    "\n",
    "#### El método ```is_valid()```.\n",
    "\n",
    " Este método evalúa si los datos ingresados en un objeto forma son válidos."
   ]
  },
  {
   "cell_type": "markdown",
   "metadata": {},
   "source": [
    "## Protección contra el envío de peticiones apócrifas entre sitios (CSRF).\n",
    "\n",
    "Es posible que un atacante intente enviar peticiones falsificadas con la finalidad de vulnerar a un servidor desde un sitio ilegitimo. A este tipo de ataque se le conoce como [\"Cross Site Request Forgery\"](https://owasp.org/www-community/attacks/csrf).\n",
    "\n",
    "*Django* cuenta con un middleware que previene el envío de peticiones que no sean de un formulario válido.\n",
    "\n",
    "\n",
    "### El middleware ```django.middleware.csrf.CsrfViewMiddleware```.\n",
    "\n",
    "Este middleware permite enviar un valor testigo o \"token\" cada vez que se crea un contenido a partir de una plantilla que incluya un fomulario. \n",
    "\n",
    "Este token es único y es requerido \n",
    "\n",
    "\n",
    "\n",
    "### La etiqueta de plantilla *csrf*.\n",
    "\n",
    "La etiqueta del token para el *DTL* es la siguiente:\n",
    "\n",
    "```\n",
    "{% csrf_token %}\n",
    "```\n",
    "\n",
    "### El atributo ```csrfmiddlewaretoken```.\n",
    "\n",
    "Cuando se incluye ```{% csrf_token %}``` en un formulario, se crea un elemento ```<input>``` que es invisible al usuario, el cual tiene como nombre de atributo ```csrfmiddlewaretoken ```.\n",
    "\n",
    "\n",
    "https://docs.djangoproject.com/en/3.2/ref/csrf/"
   ]
  },
  {
   "cell_type": "code",
   "execution_count": null,
   "metadata": {},
   "outputs": [],
   "source": [
    "from tutorial.tutorial import settings as settings"
   ]
  },
  {
   "cell_type": "code",
   "execution_count": null,
   "metadata": {
    "scrolled": true
   },
   "outputs": [],
   "source": [
    "settings.MIDDLEWARE"
   ]
  },
  {
   "cell_type": "markdown",
   "metadata": {},
   "source": [
    "## Creación de un formulario que consume una *API REST* para realizar altas."
   ]
  },
  {
   "cell_type": "markdown",
   "metadata": {},
   "source": [
    "### El script ```src/20/urls.py```.\n",
    "\n",
    "El script ```src/20/urls.py``` liga el patrón de la ruta ```/api/alta``` con la función ```tutorial.api.endpoint_views.clave()```.\n",
    "\n",
    "``` python\n",
    "from django.urls import path, re_path\n",
    "from . import views, endpoint_views, template_views\n",
    "\n",
    "urlpatterns = [path('', views.vista),\n",
    "               path('carga', views.carga),\n",
    "               re_path(r'^(?P<clave>[0-9]{4}$)', endpoint_views.clave),\n",
    "               path('vista/', template_views.vista),\n",
    "               path('valida/', template_views.valida),\n",
    "               path('alta/', template_views.forma),\n",
    "         ]\n",
    "```"
   ]
  },
  {
   "cell_type": "markdown",
   "metadata": {},
   "source": [
    "* Se sustiruirá al script ```tutorial/api/urls.py``` con el script ```src/20/urls.py```"
   ]
  },
  {
   "cell_type": "markdown",
   "metadata": {},
   "source": [
    "* Para las plataformas Linux y MacOS X."
   ]
  },
  {
   "cell_type": "code",
   "execution_count": null,
   "metadata": {},
   "outputs": [],
   "source": [
    "!cp src/20/urls.py tutorial/api/urls.py"
   ]
  },
  {
   "cell_type": "markdown",
   "metadata": {},
   "source": [
    "* Para la plataforma Windows."
   ]
  },
  {
   "cell_type": "code",
   "execution_count": null,
   "metadata": {},
   "outputs": [],
   "source": [
    "!copy src\\20\\urls.py tutorial\\api\\urls.py"
   ]
  },
  {
   "cell_type": "markdown",
   "metadata": {},
   "source": [
    "* La siguiente celda despelgará la sustitución hecha en el script ```tutorial/api/urls.py```."
   ]
  },
  {
   "cell_type": "code",
   "execution_count": null,
   "metadata": {},
   "outputs": [],
   "source": [
    "%pycat tutorial/api/urls.py"
   ]
  },
  {
   "cell_type": "markdown",
   "metadata": {},
   "source": [
    "### El script ```src/20/forms.py```.\n",
    "\n",
    "El script ```src/20/forms.py``` contiene la definición de la clase ```FormaAlumno``` la cual contiene los campos:\n",
    "\n",
    "* ```numero_de_cuenta``` que debe de ser un número entero entre ```1000``` y ```9999```.\n",
    "* ```nombre``` que debe de ser una cadena de caracters de hasta 50 caracteres.\n",
    "* ```primer_apellido``` que debe de ser una cadena de caracters de hasta 50 caracteres.\n",
    "* ```segundo_apellido``` que debe de ser una cadena de caracters de hasta 50 caracteres.\n",
    "* ```carrera```, la cual debe de ser una opción del objeto ```CARRERAS```.\n",
    "* ```semestre```, que debe de ser un número entero mayor o igual a ```1```.\n",
    "* ```promedio```, que debe de ser un número de punto flotante entre ```0``` y ```10```.\n",
    "* ```al_corriente```, que debe de ser un valor booleano.\n",
    "\n",
    "``` python\n",
    "from django import forms\n",
    "\n",
    "CARRERAS =(('Sistemas', 'Sistemas'), \n",
    "           ('Derecho', 'Derecho'), \n",
    "           ('Actuaría', 'Actuaría'),\n",
    "           ('Arquitectura', 'Arquitectura'),\n",
    "           ('Administración', 'Administración'))\n",
    "\n",
    "class FormaAlumno(forms.Form):\n",
    "    numero_de_cuenta = forms.IntegerField(label='Número de cuenta',\n",
    "                                          min_value=1000, \n",
    "                                          max_value=9999,\n",
    "                                          error_messages={'required': 'Dato requerido'})\n",
    "    nombre = forms.CharField(max_length=50, \n",
    "                             label='Nombre')\n",
    "    primer_apellido = forms.CharField(max_length=50, \n",
    "                                      label='Primer apellido')\n",
    "    segundo_apellido = forms.CharField(max_length=50, \n",
    "                                       label='Segundo apellido', \n",
    "                                       required=False)\n",
    "    carrera = forms.ChoiceField(label='Carrera', \n",
    "                                choices=CARRERAS)\n",
    "    semestre = forms.IntegerField(label='Semestre', \n",
    "                                  min_value=1)\n",
    "    promedio = forms.FloatField(label='Promedio',\n",
    "                                min_value=0.,\n",
    "                                max_value=10.0)   \n",
    "    al_corriente = forms.BooleanField(required=False)\n",
    "```\n",
    "\n"
   ]
  },
  {
   "cell_type": "code",
   "execution_count": null,
   "metadata": {},
   "outputs": [],
   "source": [
    "!cp src/20/forms.py tutorial/api/forms.py"
   ]
  },
  {
   "cell_type": "code",
   "execution_count": null,
   "metadata": {},
   "outputs": [],
   "source": [
    "!copy src\\20\\forms.py tutorial\\api\\forms.py"
   ]
  },
  {
   "cell_type": "code",
   "execution_count": null,
   "metadata": {
    "scrolled": false
   },
   "outputs": [],
   "source": [
    "%pycat tutorial/api/forms.py"
   ]
  },
  {
   "cell_type": "markdown",
   "metadata": {},
   "source": [
    "### El script ```src/20/template_views.py```.\n",
    "\n",
    "``` python\n",
    "from .models import Alumno\n",
    "from .forms import FormaAlumno\n",
    "from django.http import HttpResponseRedirect, HttpResponse, JsonResponse\n",
    "from django.shortcuts import render\n",
    "from requests import post\n",
    "\n",
    "campos = ('numero_de_cuenta', 'nombre', 'primer_apellido', 'segundo_apellido', 'carrera', 'semestre', 'promedio', 'al_corriente')\n",
    "\n",
    "\n",
    "def vista(request):\n",
    "    lista = [[(campo, getattr(alumno, campo)) for campo in campos] for alumno in Alumno.objects.all()]\n",
    "    return render(request, 'listado.html', {'lista': lista}) \n",
    "\n",
    "\n",
    "def valida(request):\n",
    "    lista = [[getattr(alumno, campo) for campo in campos] for alumno in Alumno.objects.all()]\n",
    "    return render(request, 'valida.html', {'lista': lista}) \n",
    "\n",
    "def forma(request):\n",
    "    if request.method == 'POST':\n",
    "        forma = FormaAlumno(request.POST)\n",
    "        if forma.is_valid():\n",
    "            datos = request.POST.dict()\n",
    "            datos.pop('csrfmiddlewaretoken')\n",
    "            cuenta = datos.pop('numero_de_cuenta')\n",
    "            if 'al_corriente' in datos:\n",
    "                datos['al_corriente']=True\n",
    "            else:\n",
    "                datos['al_corriente']=False\n",
    "            resultado = post('http://' + request.get_host() + '/api/{}'.format(cuenta), data=datos)\n",
    "            if resultado.status_code == 200:\n",
    "                return HttpResponse('<h1>¡Alta Exitosa!</h1>')    \n",
    "            else: \n",
    "                return HttpResponse('<h1>Ocurrió un error en el alta.</h1>')\n",
    "    else:\n",
    "        forma = FormaAlumno()\n",
    "    return render(request, 'forma.html', {'forma': forma})\n",
    "```"
   ]
  },
  {
   "cell_type": "code",
   "execution_count": null,
   "metadata": {},
   "outputs": [],
   "source": [
    "!cp src/20/template_views.py tutorial/api/template_views.py"
   ]
  },
  {
   "cell_type": "code",
   "execution_count": null,
   "metadata": {},
   "outputs": [],
   "source": [
    "!copy src\\20\\template_views.py tutorial\\api\\template_views.py"
   ]
  },
  {
   "cell_type": "code",
   "execution_count": null,
   "metadata": {
    "scrolled": true
   },
   "outputs": [],
   "source": [
    "%pycat tutorial/api/template_views.py"
   ]
  },
  {
   "cell_type": "markdown",
   "metadata": {},
   "source": [
    "### La plantilla ```src/20/forma.html```\n",
    "\n",
    "``` html\n",
    "{% extends \"base.html\" %}\n",
    "{% block encabezado %}Forma de alta {% endblock %}\n",
    "{% block cuerpo %}\n",
    "    <style>\n",
    "        form {margin: 20px}\n",
    "        label {display: block};        }\n",
    "        \n",
    "    </style>\n",
    "    <form action=\"/api/alta/\" method=\"post\">\n",
    "        <div class=\"form-group\">\n",
    "            {% csrf_token %}\n",
    "            {{ forma }}\n",
    "        </div>\n",
    "        <input type=\"submit\" value=\"Enviar\">\n",
    "    </form>\n",
    "{% endblock %}\n",
    "```\n"
   ]
  },
  {
   "cell_type": "code",
   "execution_count": null,
   "metadata": {},
   "outputs": [],
   "source": [
    "!cp src/20/forma.html tutorial/templates/forma.html"
   ]
  },
  {
   "cell_type": "code",
   "execution_count": null,
   "metadata": {},
   "outputs": [],
   "source": [
    "!copy src\\20\\forma.html tutorial\\templates\\forma.html"
   ]
  },
  {
   "cell_type": "code",
   "execution_count": null,
   "metadata": {},
   "outputs": [],
   "source": [
    "%pycat tutorial/templates/forma.html"
   ]
  },
  {
   "cell_type": "markdown",
   "metadata": {},
   "source": [
    "* Se iniciará el servidor."
   ]
  },
  {
   "cell_type": "code",
   "execution_count": null,
   "metadata": {},
   "outputs": [],
   "source": [
    "%cd tutorial"
   ]
  },
  {
   "cell_type": "markdown",
   "metadata": {},
   "source": [
    "**ADVERTENCIAS:** \n",
    "\n",
    "* Al ejecutar la siguiente celda el servidor se inciará desde la notebook, por lo que para ejecutar cualquier otra celda es necesario interrumpir la ejecución del kernel.\n",
    "\n",
    "* Asegúrese que no haya otro servicio escuchando en el puerto *5000*."
   ]
  },
  {
   "cell_type": "code",
   "execution_count": null,
   "metadata": {},
   "outputs": [],
   "source": [
    "!./manage.py runserver 0.0.0.0:8000"
   ]
  },
  {
   "cell_type": "markdown",
   "metadata": {},
   "source": [
    "http://localhost:8000/api/alta/"
   ]
  },
  {
   "cell_type": "markdown",
   "metadata": {},
   "source": [
    "<p style=\"text-align: center\"><a rel=\"license\" href=\"http://creativecommons.org/licenses/by/4.0/\"><img alt=\"Licencia Creative Commons\" style=\"border-width:0\" src=\"https://i.creativecommons.org/l/by/4.0/80x15.png\" /></a><br />Esta obra está bajo una <a rel=\"license\" href=\"http://creativecommons.org/licenses/by/4.0/\">Licencia Creative Commons Atribución 4.0 Internacional</a>.</p>\n",
    "<p style=\"text-align: center\">&copy; José Luis Chiquete Valdivieso. 2020.</p>"
   ]
  }
 ],
 "metadata": {
  "kernelspec": {
   "display_name": "Python 3 (ipykernel)",
   "language": "python",
   "name": "python3"
  },
  "language_info": {
   "codemirror_mode": {
    "name": "ipython",
    "version": 3
   },
   "file_extension": ".py",
   "mimetype": "text/x-python",
   "name": "python",
   "nbconvert_exporter": "python",
   "pygments_lexer": "ipython3",
   "version": "3.9.2"
  }
 },
 "nbformat": 4,
 "nbformat_minor": 2
}
