{
 "cells": [
  {
   "cell_type": "markdown",
   "metadata": {},
   "source": [
    "[![imagenes/pythonista.png](imagenes/pythonista.png)](https://pythonista.io)"
   ]
  },
  {
   "cell_type": "markdown",
   "metadata": {},
   "source": [
    "# Introducción a *MVC*, *MVT* y servicios web. "
   ]
  },
  {
   "cell_type": "markdown",
   "metadata": {},
   "source": [
    "## El patrón *Modelo-Vista-Controlador* (*MVC*).\n",
    "\n",
    "Este patrón de diseño de aplicaciones web consiste en separar los datos a los que accede una aplicación de las interfaces de dicha aplicación.\n",
    "\n",
    "El patrón [*MCV*](https://es.wikipedia.org/wiki/Modelo%E2%80%93vista%E2%80%93controlador) se volvió muy popular en el desarrolo de aplicaciones web particularmente con su implementación por medio de [*Ruby on Rails*](https://rubyonrails.org/).\n",
    "\n",
    "![MVC](imagenes/MVC.gif)"
   ]
  },
  {
   "cell_type": "markdown",
   "metadata": {},
   "source": [
    "### *Modelo*.\n",
    "\n",
    "El Modelo corresponde a la estructura de datos de la aplicación, la cual por lo general es gestionada por una base de datos y puede ser ligada a una estructura orientada a objetos mediante un Modelo Relacional de Objetos (*ORM* por sus siglas en inglés). \n",
    "\n",
    "El estado de una aplicación se refleja en el modelo, mientras que las vistas y los controladores son interfaces que permiten interactuar con el modelo."
   ]
  },
  {
   "cell_type": "markdown",
   "metadata": {},
   "source": [
    "### *Vista*.\n",
    "\n",
    "La vista es el modo en el que el estado del modelo es presentado al usuario. "
   ]
  },
  {
   "cell_type": "markdown",
   "metadata": {},
   "source": [
    "### *Controlador*.\n",
    "\n",
    "Los controladores son gestores de eventos los cuales tienen la capacidad de:\n",
    "* Interactuar con el estado del modelo.\n",
    "* Interactuar con lo que despliega  vista."
   ]
  },
  {
   "cell_type": "markdown",
   "metadata": {},
   "source": [
    "## La arquitectura *Modelo-Vista-Plantilla* (*MVT*). "
   ]
  },
  {
   "cell_type": "markdown",
   "metadata": {},
   "source": [
    "En el caso de *Django*, se utiliza la arquitectura *MVT*, en la que:\n",
    "* Las plantillas (*Templates*), se encargan de presentar una interfaz al usuario por medio de un documento dinámico.\n",
    "* El *Modelo* está ligado a un *ORM*.\n",
    "  * Cada modelo de *Django* es una subclase de la clase ```django.db.models.Model```.\n",
    "  * Un modelo está ligado generalmente a una tabla de una base de datos.\n",
    "  * Un registro de la tabla corresponde una instancia de un modelo.\n",
    "  * Los atributos de un objeto corresponden a un campo de un registro. \n",
    "* Las vistas hacen la vez del controlador y gestionan todas las reglas de negocio por medio de funciones."
   ]
  },
  {
   "cell_type": "markdown",
   "metadata": {},
   "source": [
    "## Aplicaciones web y servicios web."
   ]
  },
  {
   "cell_type": "markdown",
   "metadata": {},
   "source": [
    "### Aplicación web (\"*web app*\").\n",
    "\n",
    "Una aplicación web por lo general está enfocada a realizar transacciones que son accesibles a un usuario final mediante la la interfaz de un navegador web. Esta interfaz, también conocida como \"*front-end*\" es el medio de interacción entre el usuario y dicha aplicación."
   ]
  },
  {
   "cell_type": "markdown",
   "metadata": {},
   "source": [
    "### Servicios web (\"*web services*\").\n",
    "\n",
    "Un servicio web está enfocado a la realización de transacciones en la que el énfasis se hace en el intercambio de datos entre el cliente y el servidor mediante al acceso a \"*endpoints*\"."
   ]
  },
  {
   "cell_type": "markdown",
   "metadata": {},
   "source": [
    "### Puntos de acceso (\"*endpoints*\").\n",
    "\n",
    "Un *endpoint* es una *URL* que expone un servicio web, dicho servicio puede ser consumido por un cliente (no necesariamente un navegador web) en caso de que cuente con la identidad y los permisos correctos."
   ]
  },
  {
   "cell_type": "markdown",
   "metadata": {},
   "source": [
    "### Interfaces de programación de aplicaciones (*API*).\n",
    "\n",
    "Las *API* web son un conjunto de interfaces (endpoints) que exponen diversas funcionalidades de un servicio web, las cuales pueden ser utilizadas para el desarrollo de aplicaciones web, aplicaciones móviles, aplicaciones de escritorio e incluso por medio de la interfaz de la línea de comandos (*CLI*)."
   ]
  },
  {
   "cell_type": "markdown",
   "metadata": {},
   "source": [
    "### Aplicaciones web desde el front-end.\n",
    " \n",
    "Debido a la rápida evolución de herramientas y frameworks basados primordialmente en *Javascript*, se ha podido aprovechar al navegador como una plataforma para desarollo de aplicaciones. A este tipo de aplicaciones se les conoce como \"*front-end*\".\n",
    " \n",
    "Las aplicaciones de *front-end* son capaces de consumir servicios web directamente desde el navegador enviando peticiones al servidor o \"*back-end*\" mediante el acceso a las *API*."
   ]
  },
  {
   "cell_type": "markdown",
   "metadata": {},
   "source": [
    "## *RESTFul* o *REST*.\n",
    "\n",
    "\n",
    "*REST* corresponde a las siglas en inglés de *Representación de Estado Transaccional* y fue propuesta por primera vez en la [tesis doctoral de Roy Fielding](https://www.ics.uci.edu/~fielding/pubs/dissertation/rest_arch_style.htm) como una serie de reglas para aprovechar los métodos de *HTTP* con la finalidad de  crear servicios web ligeros y rápidos.\n",
    "\n",
    "\n",
    "\n",
    "Referencia: https://www.restapitutorial.com/"
   ]
  },
  {
   "cell_type": "markdown",
   "metadata": {},
   "source": [
    "## *SOAP*.\n",
    "\n",
    "El *Protocolo de Acceso a Objetos Simples* ([*SOAP*](https://es.wikipedia.org/wiki/Simple_Object_Access_Protocol*SOAP*) por sus siglas en inglés) es un protocolo que define una arquitectura de servicios web basada principalmente en [*AJAX*](https://developer.mozilla.org/es/docs/Web/Guide/AJAX). Dicha especificación es publicada por la [*W3C*](https://www.w3.org/TR/soap/).\n",
    "\n",
    "El siguiente enlace apunta a un tutorial de *SOAP*:\n",
    "\n",
    "https://www.w3schools.com/XML/xml_soap.asp"
   ]
  },
  {
   "cell_type": "markdown",
   "metadata": {},
   "source": [
    "**Nota:** El alcance de este curso comprende el despliegue de servicios web simples basados en *REST*."
   ]
  },
  {
   "cell_type": "markdown",
   "metadata": {},
   "source": [
    "<p style=\"text-align: center\"><a rel=\"license\" href=\"http://creativecommons.org/licenses/by/4.0/\"><img alt=\"Licencia Creative Commons\" style=\"border-width:0\" src=\"https://i.creativecommons.org/l/by/4.0/80x15.png\" /></a><br />Esta obra está bajo una <a rel=\"license\" href=\"http://creativecommons.org/licenses/by/4.0/\">Licencia Creative Commons Atribución 4.0 Internacional</a>.</p>\n",
    "<p style=\"text-align: center\">&copy; José Luis Chiquete Valdivieso. 2021.</p>"
   ]
  }
 ],
 "metadata": {
  "kernelspec": {
   "display_name": "Python 3 (ipykernel)",
   "language": "python",
   "name": "python3"
  },
  "language_info": {
   "codemirror_mode": {
    "name": "ipython",
    "version": 3
   },
   "file_extension": ".py",
   "mimetype": "text/x-python",
   "name": "python",
   "nbconvert_exporter": "python",
   "pygments_lexer": "ipython3",
   "version": "3.9.2"
  }
 },
 "nbformat": 4,
 "nbformat_minor": 2
}
