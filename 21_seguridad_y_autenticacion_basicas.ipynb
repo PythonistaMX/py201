{
 "cells": [
  {
   "cell_type": "markdown",
   "metadata": {},
   "source": [
    "[![imagenes/pythonista.png](imagenes/pythonista.png)](https://pythonista.io)"
   ]
  },
  {
   "cell_type": "markdown",
   "metadata": {},
   "source": [
    "# Seguridad y autenticación básicas."
   ]
  },
  {
   "cell_type": "markdown",
   "metadata": {},
   "source": [
    "*Django* cuenta desde su instalación con un sistema simple de:\n",
    "\n",
    "* Gestión de usuarios.\n",
    "* Gestión de grupos.\n",
    "* Autenticación básica.\n",
    "* Gestión de sesiones.\n",
    "\n",
    "La documentación correspondiente puede ser consultada en la siguiente liga:\n",
    "\n",
    "https://docs.djangoproject.com/en/3.2/topics/auth/\n",
    "\n",
    "**Nota:** Los alcances de este curso sólo cubren los temas de gestión básica de usuarios y autenticación simple."
   ]
  },
  {
   "cell_type": "markdown",
   "metadata": {},
   "source": [
    "## Aplicaciones y middleware asociados."
   ]
  },
  {
   "cell_type": "markdown",
   "metadata": {},
   "source": [
    "Las aplicaciones instaladas para la gestión de usuarios y permisos son:\n",
    "* ```django.contrib.auth``` para la gestión de usuarios y grupos.\n",
    "* ```django.contrib.contenttypes``` para asignar permisos a los modelos que cree el desarrollador."
   ]
  },
  {
   "cell_type": "code",
   "execution_count": null,
   "metadata": {},
   "outputs": [],
   "source": [
    "from tutorial.tutorial import settings"
   ]
  },
  {
   "cell_type": "code",
   "execution_count": null,
   "metadata": {},
   "outputs": [],
   "source": [
    "settings.INSTALLED_APPS"
   ]
  },
  {
   "cell_type": "markdown",
   "metadata": {},
   "source": [
    "El middleware que utiliza *Django* por efecto es:\n",
    "\n",
    "* ```django.contrib.sessions.middleware.SessionMiddleware```, el cual permite realizar la autenticación y autorización de acceso.\n",
    "* ```django.contrib.auth.middleware.AuthenticationMiddleware```, el cual gestiona las sesiones."
   ]
  },
  {
   "cell_type": "code",
   "execution_count": null,
   "metadata": {},
   "outputs": [],
   "source": [
    "settings.MIDDLEWARE"
   ]
  },
  {
   "cell_type": "markdown",
   "metadata": {},
   "source": [
    "##  El modelo  ```django.contrib.auth.models.User```.  \n",
    "\n",
    "Los usuarios y grupos en *Django* se crean mediante modelos predeterminados.\n",
    "\n",
    "* La clase ```django.contrib.auth.models.User``` es una subclase de  ```django.db.models.Model``` y corresponde al modelo básico de un usuario de *Django*. A partir de este momento se hará referencia a esta clase como ```User```."
   ]
  },
  {
   "cell_type": "markdown",
   "metadata": {},
   "source": [
    "### El atributo de clase ```User.objects```.\n",
    "\n",
    "Al ser una subclase de ```django.db.models.Model```, el modelo ```User``` cuenta con el atributo de clase ```objects```, el cual puede realizar operaciones de consulta, altas y bajas de instancias mediante métodos como:\n",
    "\n",
    "* ```all()```.\n",
    "* ```get()```.\n",
    "* ```filter()```.\n",
    "\n",
    "#### El método ```User.objects.create_user()```.\n",
    "\n",
    "Este método permite crear la cuenta de un usuario y guardarla en la base de datos.\n",
    "\n",
    "```\n",
    " User.objects.create_user('<nombre de usuario>', '<correo electrónico>', '<contraseña>')\n",
    "```"
   ]
  },
  {
   "cell_type": "markdown",
   "metadata": {},
   "source": [
    "### Atributos de las instancias de  ```User```.\n",
    "\n",
    "Las instancias del modelo ```User``` cuenta con los siguientes atributos:\n",
    "\n",
    "* ```id```, el cual corresponde a un identificador numérico que *Django* le otorga al modelo cuando es instanciado.\n",
    "* ```username```, el cual corresponde al nombre de usuario. Este atributo es obligatorio para crear al modelo.\n",
    "* ```password```, el cual corresponde a la contraseña del usuario. Este atributo es obligatorio para crear al modelo.\n",
    "* ```first_name```, el cual corresponde al nombre del usuario.\n",
    "* ```last_name```, el cual corresponde al apellido del usuario.\n",
    "* ```email```, el cual corresponde a la dirección de correo electrónico del usuario.\n",
    "* ```is_superuser``` es un valor de tipo ```bool``` que indica si el usuario es in superusuario.\n",
    "* ```is_staff```  es un valor de tipo ```bool``` que indica si el usuario es parte del \"staff\" de la organización.\n",
    "* ```is_active``` es un valor de tipo ```bool``` que indica si el usuario está activo.\n",
    "* ```last_login``` es un valor de tipo ```datetime.datetime```con la fecha y hora del último acceso del usuario.\n",
    "* ```date_joined``` es un valor de tipo ```datetime.datetime```con la fecha y hora en la que el usuario fue creado."
   ]
  },
  {
   "cell_type": "markdown",
   "metadata": {},
   "source": [
    "## Ejemplo ilustrativo de creación de un suario desde  el shell.\n",
    "\n",
    "``` ipython\n",
    "In [1]: from django.contrib.auth.models import User\n",
    "\n",
    "In [2]: User.objects.all()\n",
    "Out[2]: <QuerySet []>\n",
    "\n",
    "In [3]: User.objects.create_user('josech', 'josech@gmail.com', '0p3n5t4ck')\n",
    "Out[3]: <User: josech>\n",
    "\n",
    "In [4]: User.objects.all()\n",
    "Out[4]: <QuerySet [<User: josech>]>\n",
    "\n",
    "\n",
    "In [5]: usuario = User.objects.all()[0]\n",
    "\n",
    "In [5]: usuario\n",
    "Out[5]: <User: josech>\n",
    "\n",
    "In [6]: usuario.is_superuser\n",
    "Out[6]: False\n",
    "\n",
    "In [7]: usuario.is_superuser=True\n",
    "\n",
    "```"
   ]
  },
  {
   "cell_type": "markdown",
   "metadata": {},
   "source": [
    "## Creación de un superusuario con el script ```manage.py```.\n",
    "\n",
    "Para poder crear unsuperuisuario se utiliza el siguiente comando desde una terminal localziada en el directorio del proyecto.\n",
    "\n",
    "```\n",
    "python manage.py createsuperuser --email=\"<correo electronico>\" --user=\"<usuario>\"\n",
    "```"
   ]
  },
  {
   "cell_type": "markdown",
   "metadata": {},
   "source": [
    "**Ejemplo:**\n",
    "```\n",
    "python manage.py createsuperuser --email=\"falso@pythonista.io\" --user=\"admin\"\n",
    "```"
   ]
  },
  {
   "cell_type": "markdown",
   "metadata": {},
   "source": [
    "## Tablas asociadas a usuarios y grupos en la base de datos.\n",
    "\n",
    "La gestión de usuarios está ligada a varias tablas de la base de datos asociada a *Django*, la cuales fueron creadas al ejecutar el comando ```manage.py migrate```.\n",
    "\n",
    "Estas tablas tienen el prefijo ```auth_```:\n",
    "\n",
    "* ```auth_user```.\n",
    "* ```auth_group```.\n",
    "* ```auth_permission```.\n",
    "* ```auth_group_permissions```.\n",
    "* ```auth_user_groups```.\n",
    "* ```auth_user_user_permissions```.\n"
   ]
  },
  {
   "cell_type": "code",
   "execution_count": null,
   "metadata": {},
   "outputs": [],
   "source": [
    "%load_ext sql"
   ]
  },
  {
   "cell_type": "code",
   "execution_count": null,
   "metadata": {},
   "outputs": [],
   "source": [
    "%sql sqlite:///tutorial/db.sqlite3"
   ]
  },
  {
   "cell_type": "code",
   "execution_count": null,
   "metadata": {
    "scrolled": false
   },
   "outputs": [],
   "source": [
    "%%sql sqlite:///tutorial/db.sqlite3\n",
    "SELECT name FROM sqlite_master WHERE type = \"table\""
   ]
  },
  {
   "cell_type": "code",
   "execution_count": null,
   "metadata": {},
   "outputs": [],
   "source": [
    "%sql SELECT * FROM auth_user"
   ]
  },
  {
   "cell_type": "markdown",
   "metadata": {},
   "source": [
    "## El módulo ```django.contrib.auth.urls```.\n",
    "\n",
    "Este módulo define los siguientes patrones de *URL* predefinidos para gestionar los accesos de un usuario:\n",
    "\n",
    "* ```'login/'``` ingreso a la sesión de un usuario. \n",
    "* ```'logout/'``` salida de la sesión de un usuario.\n",
    "* ```'password_change/'```, la cual permite cambiar la contraseña de un usuario.\n",
    "* ```'password_reset/'```, la cual permite recuperar una contraseña.\n",
    "* ```'reset/<uid64>/<token>'```, el cual permite reiniciar a un usuario.\n",
    "* ```'password_change/done/'```.\n",
    "* ```'password_reset/done/'```.\n",
    "* ```'reset/done/'```.\n",
    "\n",
    "Para que estos patrones puedan ser accedidos es necesario incluir un patrón en el objeto ```urlpatterns``` del script ```urls.py``` del proyecto de la siguiente manera:\n",
    "\n",
    "```\n",
    " path('<ruta base>', include('django.contrib.auth.urls'))\n",
    "```\n",
    "\n",
    "* Donde ```<ruta base>``` corresponde a la ruta desde la cual se accederá a cada *URL* definida por ```django.contrib.auth.urls```. \n",
    "\n",
    "Con excepción de ```'login/'``` cada función de vista relacionada con cada patrón cuenta con una plantilla predefinida. Sin embargo, es posible crear plantillas a la medida.\n",
    "\n",
    "Pro defecto las *URLs* de este módulo buscarán las plantillas correspondientes en el directorio```templates/registration/``` el cual se encuentra a su vez en el directorio definido para las plantillas del proyecto."
   ]
  },
  {
   "cell_type": "markdown",
   "metadata": {},
   "source": [
    "### Configuración de la función de la *URL* ```login/```\n",
    "\n",
    "En el caso de la *URL* ligada a la regla ```'login/'```, es necesario crear una plantilla en la ruta ```registration/login.html```, la cual permita enviar  el usuario y la contraseña.\n",
    "\n",
    "Un ejemplo de esta plantilla puede ser consultado en https://docs.djangoproject.com/en/3.2/topics/auth/default/#all-authentication-views."
   ]
  },
  {
   "cell_type": "markdown",
   "metadata": {},
   "source": [
    "### Redireccionamiento en caso de un ingreso correcto.\n",
    "\n",
    "Cuando las credenciales ingresadas y enviadas son correctas, *Django* redirigirá al navegador a la ruta ```'/accounts/profile/'```. \n",
    "\n",
    "Para indicar un redireccionamiento a una *URL* distinta es necesario definirla con el nombre ```LOGIN_REDIRECT_URL``` en el script ```settings.py``` del proyecto.\n",
    "\n",
    "```\n",
    "LOGIN_REDIRECT_URL = '<ruta>'\n",
    "```"
   ]
  },
  {
   "cell_type": "markdown",
   "metadata": {},
   "source": [
    "## Ejemplo ilustrativo."
   ]
  },
  {
   "cell_type": "markdown",
   "metadata": {},
   "source": [
    "### Definición del patrón de *URLs*.\n",
    "\n",
    "El archivo ```src/21/urls.py``` contiene la siguiente definición de  ```urlpatterns``` ligando al módulo ``` django.contrib.auth.urls``` con la ruta ```usuarios/```.\n",
    "\n",
    "```python\n",
    "urlpatterns = [path('admin/', admin.site.urls), \n",
    "               path('main/', include('main.urls')),\n",
    "               path('api/', include('api.urls')),\n",
    "               path('accounts/', include('django.contrib.auth.urls')),\n",
    "              ]\n",
    "```"
   ]
  },
  {
   "cell_type": "markdown",
   "metadata": {},
   "source": [
    "* Se sustituirá el script ```tutorial/tutorial/urls.py``` con ```src/22/urls.py```."
   ]
  },
  {
   "cell_type": "markdown",
   "metadata": {},
   "source": [
    "* Para las platafomas Linux y MacOS X."
   ]
  },
  {
   "cell_type": "code",
   "execution_count": null,
   "metadata": {},
   "outputs": [],
   "source": [
    "!cp src/21/urls.py tutorial/tutorial/urls.py"
   ]
  },
  {
   "cell_type": "markdown",
   "metadata": {},
   "source": [
    "* Para la plataforma Windows."
   ]
  },
  {
   "cell_type": "code",
   "execution_count": null,
   "metadata": {},
   "outputs": [],
   "source": [
    "!copy src\\21\\urls.py tutorial\\tutorial\\urls.py"
   ]
  },
  {
   "cell_type": "markdown",
   "metadata": {},
   "source": [
    "* La siguiente celda desplegará el archivo sustituido."
   ]
  },
  {
   "cell_type": "code",
   "execution_count": null,
   "metadata": {},
   "outputs": [],
   "source": [
    "%pycat tutorial/tutorial/urls.py"
   ]
  },
  {
   "cell_type": "markdown",
   "metadata": {},
   "source": [
    "### Creación del subdirectorio ```registration/```.\n",
    "\n",
    "* La siguiente celda creará el directorio ```registration/``` dentro del directorio ```tutorial/templates```."
   ]
  },
  {
   "cell_type": "code",
   "execution_count": null,
   "metadata": {
    "scrolled": true
   },
   "outputs": [],
   "source": [
    "%mkdir tutorial/templates/registration"
   ]
  },
  {
   "cell_type": "code",
   "execution_count": null,
   "metadata": {},
   "outputs": [],
   "source": [
    "%mkdir tutorial\\templates\\registration"
   ]
  },
  {
   "cell_type": "markdown",
   "metadata": {},
   "source": [
    "### La plantilla ```registration/login.html```.\n",
    "\n",
    "La plantilla  ```src/22/login.html``` contiene el siguiente código:\n",
    "\n",
    "``` html\n",
    "{% extends \"base.html\" %}\n",
    "\n",
    "{% block cuerpo %}\n",
    "\n",
    "{% if form.errors %}\n",
    "  <p>Ingresó una contraseña incorrecta. Vuelva a intentar.</p>\n",
    "{% endif %}\n",
    "\n",
    "{% if next %}\n",
    "  {% if user.is_authenticated %}\n",
    "    <p>Su cuenta no tiene acceso a esta página. Vuelva a intentar con un usuario autorizado.</p>\n",
    "  {% else %}\n",
    "    <p>Por favor ingrese con usuario con los permisos adecuados.</p>\n",
    "  {% endif %}\n",
    "{% endif %}\n",
    "\n",
    "<form method=\"post\" action=\"{% url 'login' %}\">\n",
    "{% csrf_token %}\n",
    "<table>\n",
    "\n",
    "<tr>\n",
    "  <td>{{ form.username.label_tag }}</td>\n",
    "  <td>{{ form.username }}</td>\n",
    "</tr>\n",
    "\n",
    "<tr>\n",
    "  <td>{{ form.password.label_tag }}</td>\n",
    "  <td>{{ form.password }}</td>\n",
    "</tr>\n",
    "</table>\n",
    "\n",
    "<input type=\"submit\" value=\"login\" />\n",
    "<input type=\"hidden\" name=\"next\" value=\"{{ next }}\" />\n",
    "</form>\n",
    "\n",
    "{# Assumes you setup the password_reset view in your URLconf #}\n",
    "<p><a href=\"{% url 'password_reset' %}\">¿Perdió su contraseña?</a></p>\n",
    "\n",
    "{% endblock %}\n",
    "```"
   ]
  },
  {
   "cell_type": "markdown",
   "metadata": {},
   "source": [
    "* A continuacion se copiará al script ```src/21/urls.py``` en el directorio ```tutorial/templates/registration/```."
   ]
  },
  {
   "cell_type": "markdown",
   "metadata": {},
   "source": [
    "* Para las platafomas Linux y MacOS X."
   ]
  },
  {
   "cell_type": "code",
   "execution_count": null,
   "metadata": {},
   "outputs": [],
   "source": [
    "%cp src/21/login.html tutorial/templates/registration/"
   ]
  },
  {
   "cell_type": "markdown",
   "metadata": {},
   "source": [
    "* Para la platafoma Windows."
   ]
  },
  {
   "cell_type": "code",
   "execution_count": null,
   "metadata": {},
   "outputs": [],
   "source": [
    "%copy src\\21\\login.html tutorial\\templates\\registration\\"
   ]
  },
  {
   "cell_type": "markdown",
   "metadata": {},
   "source": [
    "* La siguiente celda despelgará el contenido del script ```tutorial/templates/registration/login.html```"
   ]
  },
  {
   "cell_type": "code",
   "execution_count": null,
   "metadata": {},
   "outputs": [],
   "source": [
    "%pycat tutorial/templates/registration/login.html"
   ]
  },
  {
   "cell_type": "markdown",
   "metadata": {},
   "source": [
    "### Configuración del redireccionamiento de ingreso exitoso.\n",
    "\n",
    "El script ```src/21/settings.py``` define a ```/api/``` como la ruta a la que el navegador será redirigido en caso de que el acceso sea exitoso.\n",
    "\n",
    "``` python\n",
    "LOGIN_REDIRECT_URL = '/api/'\n",
    "```"
   ]
  },
  {
   "cell_type": "markdown",
   "metadata": {},
   "source": [
    "* A continuación se sustituirá al script ```tutorial/tutorial/settings.py``` con ```src/21/settings.py```."
   ]
  },
  {
   "cell_type": "markdown",
   "metadata": {},
   "source": [
    "* Para las platafomas Linux y MacOS X."
   ]
  },
  {
   "cell_type": "code",
   "execution_count": null,
   "metadata": {},
   "outputs": [],
   "source": [
    "%cp src/21/settings.py tutorial/tutorial/settings.py"
   ]
  },
  {
   "cell_type": "markdown",
   "metadata": {},
   "source": [
    "* Para la platafoma Linux."
   ]
  },
  {
   "cell_type": "code",
   "execution_count": null,
   "metadata": {},
   "outputs": [],
   "source": [
    "%copy src\\21\\settings.py tutorial\\tutorial\\settings.py"
   ]
  },
  {
   "cell_type": "markdown",
   "metadata": {},
   "source": [
    "La siguiente celda mostrará el resultado de la sustitución en ```tutorial/tutorial/settings.py```."
   ]
  },
  {
   "cell_type": "code",
   "execution_count": null,
   "metadata": {},
   "outputs": [],
   "source": [
    "%pycat tutorial/tutorial/settings.py"
   ]
  },
  {
   "cell_type": "markdown",
   "metadata": {},
   "source": [
    "## Arranque desde una terminal.\n",
    "\n",
    "* Desde una terminal diríjase al directorio ```tutorial```, en el cual se encuentra el script ```manage.py```.\n",
    "* Ejecute el siguiente comando:\n",
    "\n",
    "\n",
    "```\n",
    "python manage.py runserver 0.0.0.0:8000\n",
    "```\n",
    "\n",
    "**Nota:** \n",
    "Es necesario que el firewall de su equipo esté configurado para transmitir desde el puerto ```8000```. "
   ]
  },
  {
   "cell_type": "markdown",
   "metadata": {},
   "source": [
    "## Resultados."
   ]
  },
  {
   "cell_type": "markdown",
   "metadata": {},
   "source": [
    "http://localhost:8000/accounts/login/"
   ]
  },
  {
   "cell_type": "markdown",
   "metadata": {},
   "source": [
    "<p style=\"text-align: center\"><a rel=\"license\" \n",
    "                                 href=\"http://creativecommons.org/licenses/by/4.0/\"><img alt=\"Licencia Creative Commons\" style=\"border-width:0\" src=\"https://i.creativecommons.org/l/by/4.0/80x15.png\" /></a><br />Esta obra está bajo una <a rel=\"license\" href=\"http://creativecommons.org/licenses/by/4.0/\">Licencia Creative Commons Atribución 4.0 Internacional</a>.</p>\n",
    "<p style=\"text-align: center\">&copy; José Luis Chiquete Valdivieso. 2021.</p>"
   ]
  }
 ],
 "metadata": {
  "kernelspec": {
   "display_name": "Python 3 (ipykernel)",
   "language": "python",
   "name": "python3"
  },
  "language_info": {
   "codemirror_mode": {
    "name": "ipython",
    "version": 3
   },
   "file_extension": ".py",
   "mimetype": "text/x-python",
   "name": "python",
   "nbconvert_exporter": "python",
   "pygments_lexer": "ipython3",
   "version": "3.9.2"
  }
 },
 "nbformat": 4,
 "nbformat_minor": 2
}
