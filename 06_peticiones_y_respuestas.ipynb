{
 "cells": [
  {
   "cell_type": "markdown",
   "metadata": {},
   "source": [
    "[![imagenes/pythonista.png](imagenes/pythonista.png)](https://pythonista.io)"
   ]
  },
  {
   "cell_type": "markdown",
   "metadata": {},
   "source": [
    "# Peticiones y respuestas."
   ]
  },
  {
   "cell_type": "markdown",
   "metadata": {},
   "source": [
    "**ADVERTENCIA:**  \n",
    "\n",
    "Para poder realizar exitosamente los ejercicios de esta *notebook*, es necesario haber seguido al pie de la letra y en orden sucesivo las instrucciones de todas las *notebooks* previas."
   ]
  },
  {
   "cell_type": "markdown",
   "metadata": {},
   "source": [
    "## Conexiones.\n",
    "\n",
    "Si un cliente cuenta con las credenciales y los permisos adecuados, éste puede iniciar una conexion con un servidor. \n",
    "\n",
    "Una conexión consiste en intercambio de peticiones (*requests*) y respuestas (*responses*) entre un cliente y un servidor."
   ]
  },
  {
   "cell_type": "markdown",
   "metadata": {},
   "source": [
    "## El módulo ```django.http```.\n",
    "\n",
    "Este módulo contiene diversos recursos que permiten a *Django* desplegar servicios basados en el protocolo *HTTP* y entre otros objetos contiene:\n",
    "\n",
    "* A la clase ```django.http.HttpRequest```.\n",
    "* A la clase ```django.http.HttpResponse```.\n",
    "* A la clase ```django.http.JsonResponse```.\n",
    "* A algunas clases que permiten gestionar algunos códigos de estado de *HTTP* distintos a ```200```.\n",
    "\n",
    "La referencia a estas clases puede ser consultada desde la siguiente liga:\n",
    "\n",
    "https://docs.djangoproject.com/en/3.2/ref/request-response/"
   ]
  },
  {
   "cell_type": "markdown",
   "metadata": {},
   "source": [
    "## Los objetos ```request```.\n",
    "\n",
    "A los objetos instanciados de la clase ```django.http.HttpRequest```, se les conoce como ```request```. A partir de este momento se utilizará dicho nombre para hacer referencia a dichos objetos.\n",
    "\n",
    "* Cuando el servidor de *Django* recibe una petición que coincide con un patrón de *URL*, este instancia un objeto ```request``` y lo ingresa a la función de vista relacionada al patrón de *URL* como primer argumento.\n",
    "* El estado de un objeto ```request``` contiene información de la petición formulada desde un cliente y recibida por el servidor de *Django*.\n",
    "* Los objetos ```request``` cuentan con atributos y métodos que permiten gestionar los datos de las peticiones."
   ]
  },
  {
   "cell_type": "markdown",
   "metadata": {},
   "source": [
    "### Atributos de los objetos ```request```.\n",
    "\n",
    "* ```scheme```: el cual contiene una cadena de caracteres que describe el esquema de autenticación utilizado para la conexión conforme a la [*RFC7617*](https://tools.ietf.org/html/rfc7617). Generalmente es ```'http'``` o ```'https'```. \n",
    "* ```body```: el cual contiene datos que han sido enviados dentro de la petición en formato binario, como imágenes, videos, etc.\n",
    "* ```encoding```: el cual contiene una cadena de caracteres con los datos de codificación de la petición.\n",
    "* ```path```: el cual contiene una cadena de caracteres de la ruta del recurso.\n",
    "* ```path_info```: ofrece información de la ruta capaz de ser procesada por diversos servidores web.\n",
    "* ```method```: el cual contiene una cadena de caracteres que indica el método utilizado para enviar la petición.\n",
    "* ```content_type```: el contiene una cadena de caracteres corresondiente al encabezado ```Content-Type``` de la petición.\n",
    "* ```content_params```: contiene un objeto de tipo ```dict``` el cual contiene los pares del encabezado ```Content-Type```.\n",
    "* ```resolver_match```: Contiene una cadena de caracteres con la *URL*.\n",
    "* ```COOKIES```: contiene un objeto tipo ```dict``` con las cookies enviadas en la petición.\n",
    "* ```FILES```: contiene un diccionario con los datos de los archivos enviados en la petición.\n",
    "* ```META```: Contiene un objeto tipo ```dict``` con una serie de datos los cuales pueden ser consultados en \n",
    "https://docs.djangoproject.com/en/3.1/ref/request-response/#django.http.HttpRequest.META.\n",
    "* ```GET```: contiene un objeto de clase ```django.http.QueryDict``` con los parámetros enviados mediante el método ```GET```.\n",
    "* ```POST```: contiene un objeto de clase ```django.http.QueryDict``` con los parámetros enviados mediante el método ```POST```.\n",
    "\n",
    "Los principales métodos y particularidades de la clase ```django.http.HttpRequest```, así como la clase ```django.http.QueryDict``` se estudiarán en capítulos subsecuentes."
   ]
  },
  {
   "cell_type": "markdown",
   "metadata": {},
   "source": [
    "## Los objetos ```response```.\n",
    "\n",
    "El servidor de *Django* es capaz de producir y enviar un mensaje de respuesta al cliente a partir de los objetos ```response```. Las funciones de vista deben de regresar un objeto ```response``` o se generará una excepción de tipo ```ValueError```, la cual enviará un estado ```500``` al cliente que envió la petición."
   ]
  },
  {
   "cell_type": "markdown",
   "metadata": {},
   "source": [
    "### La clase ```django.http.HttpResponse```.\n",
    "\n",
    "Existen diversas clases capaces de instanciar objetos ```response``` y todas ellas son subclases de ```django.http.HttpResponse```. Es decir que ```django.http.HttpResponse``` es la clase base de los objetos ```response```.\n",
    "\n",
    "\n",
    "La siguiente es la sintaxis para instanciar un objeto a partir de la clase  ```django.http.HttpResponse```:\n",
    "```\n",
    "django.http.HttpResponse(<contenido>)\n",
    "```\n",
    "\n",
    "Donde:\n",
    "\n",
    "* ```<contenido>``` es el objeto cuyo contenido será enviado como respuesta al cliente que realizó la petición."
   ]
  },
  {
   "cell_type": "markdown",
   "metadata": {},
   "source": [
    "### Atributos de los objetos ```response```.\n",
    "\n",
    "Los objetos ```response``` tiene  al menos los siguientes atribuos:\n",
    "\n",
    "* ```content```: el cual almacena el contenido que será emviado al cliente.\n",
    "* ```charset```: el cual inidica la codificación de caracteres (charset) al que corresponde el contenido. En caso de no indicar nada, se usará el charset del cliente.\n",
    "* ```status_code```: el cual contiene el número de código de estado HTTP.\n",
    "* ```reason_phrase```: contiene una cadena de caracteres explicando la razón por la que se emite el código de estado.\n",
    "* ```streaming```: indica si el contenido es un flujo de datos.\n",
    "* ```closed```: Indica si la conexión está cerrada."
   ]
  },
  {
   "cell_type": "markdown",
   "metadata": {},
   "source": [
    "## Ejemplo ilustrativo.\n",
    "\n",
    "El *script* ```src/06/views.py```  contiene el siguiente código:\n",
    "\n",
    "``` python\n",
    "from django.http import HttpResponse\n",
    "\n",
    "def index(request):\n",
    "    return HttpResponse(\"<h1>Hola, mundo.</h1>\")\n",
    "\n",
    "def vista(request):\n",
    "    return HttpResponse('<ul><li>URL: {}</li><li>Método: {}</li><li>Codificación: {}</li><li>Argumentos: {}</li></ul>'.format(request.path, request.method, request.encoding, request.GET.dict()))\n",
    "```\n",
    "Las funciones definidas son:\n",
    "\n",
    "* ```index()```,  la cual crea y regresa un objeto instanciado de ```django.http.HttpResponse``` cuyo contenido es una cadena de caracteres.\n",
    "* ```vista()``` la cual regresa un objeto instanciado de ```django.http.HttpResponse``` cuyo contenido es una cadena de caracteres a la que se le añadirán los siguientes atributos del objeto ```request```.\n",
    "    * ```path```.\n",
    "    * ```method```.\n",
    "    * ```encoding```.\n",
    "    * El objeto tipo ```dict``` obtenido a partir de la ejecución del método ```dict()``` del atributo ```GET```."
   ]
  },
  {
   "cell_type": "markdown",
   "metadata": {},
   "source": [
    "* Las siguientes celda sustituirá al *script* ```tutorial/main/views.py``` con el *script* ```src/06/views.py```."
   ]
  },
  {
   "cell_type": "markdown",
   "metadata": {},
   "source": [
    "* Para las plataformas *GNU/Linux* y *MacOS X*. "
   ]
  },
  {
   "cell_type": "code",
   "execution_count": null,
   "metadata": {},
   "outputs": [],
   "source": [
    "!cp src/06/views.py tutorial/main/views.py"
   ]
  },
  {
   "cell_type": "markdown",
   "metadata": {},
   "source": [
    "* Para la plataforma *Windows*."
   ]
  },
  {
   "cell_type": "code",
   "execution_count": null,
   "metadata": {},
   "outputs": [],
   "source": [
    "!copy src\\06\\views.py tutorial\\main\\views.py"
   ]
  },
  {
   "cell_type": "markdown",
   "metadata": {},
   "source": [
    "* La siguiente celda desplegará las modificaciones al *script* ```tutorial/main/views.py```."
   ]
  },
  {
   "cell_type": "code",
   "execution_count": null,
   "metadata": {},
   "outputs": [],
   "source": [
    "%pycat tutorial/main/views.py"
   ]
  },
  {
   "cell_type": "markdown",
   "metadata": {},
   "source": [
    "## Arranque del servicio."
   ]
  },
  {
   "cell_type": "markdown",
   "metadata": {},
   "source": [
    "### Arranque desde la *notebook*."
   ]
  },
  {
   "cell_type": "code",
   "execution_count": null,
   "metadata": {},
   "outputs": [],
   "source": [
    "%cd tutorial"
   ]
  },
  {
   "cell_type": "code",
   "execution_count": null,
   "metadata": {},
   "outputs": [],
   "source": [
    "!python manage.py runserver 0.0.0.0:8000"
   ]
  },
  {
   "cell_type": "markdown",
   "metadata": {},
   "source": [
    "**Nota:** Es necesario interrumpir el *kernel* de la *notebook* para terminar la ejecución del servidor."
   ]
  },
  {
   "cell_type": "markdown",
   "metadata": {},
   "source": [
    "### Arranque desde una terminal.\n",
    "\n",
    "#### Carga del entorno.\n",
    "\n",
    "* En caso de que se acceda a la terminal de la máquina virtual proporcionada por *Pythonista<sup>®</sup>*, es necesario cargar el entormno con el siguiente comando.\n",
    "\n",
    "```\n",
    "source ~/pythonista/bin/activate\n",
    "```\n",
    "#### Inicio del servidor.\n",
    "\n",
    "* Desde la terminal ubicar el *shell* en el directorio ```tutorial```, en el cual se encuentra el *script* ```manage.py```.\n",
    "\n",
    "```\n",
    "python manage.py runserver 0.0.0.0:8000\n",
    "```\n",
    "\n",
    "**Nota:** \n",
    "Es necesario que el *firewall* de su equipo esté configurado para transmitir desde el puerto ```8000```. "
   ]
  },
  {
   "cell_type": "markdown",
   "metadata": {},
   "source": [
    "## Resultados."
   ]
  },
  {
   "cell_type": "markdown",
   "metadata": {},
   "source": [
    "* Al acceder a http://localhost:8000/main/vista el navegador mostrará lo siguiente.\n",
    "\n",
    "<img src=\"imagenes/06/vista.png\" width=\"600\">"
   ]
  },
  {
   "cell_type": "markdown",
   "metadata": {},
   "source": [
    "* Al acceder a http://localhost:8000/main/vista?nombre=Juan&apellido=Perez el navegador mostrará lo siguiente.\n",
    "<img src=\"imagenes/06/vista-nombre.png\" width=\"600\">"
   ]
  },
  {
   "cell_type": "markdown",
   "metadata": {},
   "source": [
    "<p style=\"text-align: center\"><a rel=\"license\" href=\"http://creativecommons.org/licenses/by/4.0/\"><img alt=\"Licencia Creative Commons\" style=\"border-width:0\" src=\"https://i.creativecommons.org/l/by/4.0/80x15.png\" /></a><br />Esta obra está bajo una <a rel=\"license\" href=\"http://creativecommons.org/licenses/by/4.0/\">Licencia Creative Commons Atribución 4.0 Internacional</a>.</p>\n",
    "<p style=\"text-align: center\">&copy; José Luis Chiquete Valdivieso. 2021.</p>"
   ]
  }
 ],
 "metadata": {
  "kernelspec": {
   "display_name": "Python 3 (ipykernel)",
   "language": "python",
   "name": "python3"
  },
  "language_info": {
   "codemirror_mode": {
    "name": "ipython",
    "version": 3
   },
   "file_extension": ".py",
   "mimetype": "text/x-python",
   "name": "python",
   "nbconvert_exporter": "python",
   "pygments_lexer": "ipython3",
   "version": "3.9.2"
  }
 },
 "nbformat": 4,
 "nbformat_minor": 2
}
