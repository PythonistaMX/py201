{
 "cells": [
  {
   "cell_type": "markdown",
   "metadata": {},
   "source": [
    "[![imagenes/pythonista.png](imagenes/pythonista.png)](https://pythonista.io)"
   ]
  },
  {
   "cell_type": "markdown",
   "metadata": {},
   "source": [
    "# Puntos de acceso de la *API REST*."
   ]
  },
  {
   "cell_type": "markdown",
   "metadata": {},
   "source": [
    "**ADVERTENCIA:**  \n",
    "\n",
    "Para poder realizar exitosamente los ejercicios de esta notebook, es necesario haber seguido al pie de la letra y en orden sucesivo las instrucciones de todas las notebooks previas."
   ]
  },
  {
   "cell_type": "markdown",
   "metadata": {},
   "source": [
    "## El servicio web localizado en ```api/```.\n",
    "\n",
    "En el capítulo [```13_operaciones_basicas _con_modelos.ipynb```](13_operaciones_basicas _con_modelos.ipynb) se creó la aplicación ```api``` la cual definió los siguiente *endpoints*:\n",
    "\n",
    "* ```api/```, el cual regresa un documento en formato *JSON* que contiene un listado de todos los datos almanceados en la tabla ```api_alumno``` la cual está ligada a los objetos instanciados de la clase ```api.models.Alumno```.\n",
    "* ```api/carga```, la cual poblaría la base de datos ```api_alumno``` a partir de un archivo llamado ```alumnos.json```, localizado en el directorio ```tutorial```.\n",
    "\n",
    "En este capítulo se definirán *endpoints* que corresponden a la *URL*:\n",
    "\n",
    "```\n",
    "api/<clave>\n",
    "```\n",
    "\n",
    "* Donde ```<clave>``` es corresponde a un número de 4 dígitos.\n",
    "\n",
    "Dependiendo del método mediante el cual se accede a dicha *URL*, se pueden realizar las siguientes operaciones.\n",
    "\n",
    "* Al acceder a la *URL* mediante el método ```GET```, el sevidor regresará un documento *JSON* con el estado del objeto instanciado de ```api.models.Alumno``` cuyo atributo ```numero_de_cuenta``` corresponda al número de la *URL*. En caso de no existir, regresará un estado ```404```.\n",
    "* Al acceder a la *URL* mediante el método ```POST```, el sevidor intentará crear una instancia de la clase ```api.models.Alumno``` cuyo atributo ```numero_de_cuenta```corresponderá al número de la *URL*. El servidor verificará que los datos enviados tengan la estructura y contenido adecuado. En caso de ser así, regresará un documento *JSON* con el estado del objeto creado. En caso de que ya exista un objeto cuyo atributo clave sea igual al de la *URL* o no tenga los datos o no tenga la estructura adecuada, el servidor regresará un error ```400```.\n",
    "* Al acceder a la *URL* mediante el método ```DELETE```, el sevidor regresará un documento *JSON* con el estado del objeto instanciado de ```api.models.Alumno``` cuyo atributo ```numero_de_cuenta``` corresponda al número de la *URL* y lo eliminará de la base de datos. En caso de no exisitir, regresará un estado ```404```.\n"
   ]
  },
  {
   "cell_type": "markdown",
   "metadata": {},
   "source": [
    "## Reglas de los campos.\n",
    "\n",
    "* Los campos ```nombre```, ```primer_apellido```, ```segundo_apellido``` y ```carrera``` son cadenas de caracteres.\n",
    "* El campo ```carrera``` debe corresponder a una carrera válida.\n",
    "* El campo ```semestre``` es un número entero mayor que cero.\n",
    "* El campo ```promedio``` es un número que va de 0 a 10.\n",
    "* El campo ```al_corriente``` es un booleano.\n",
    "* El campo ```segundo_apellido``` es opcional, todos los demás son obligatorios."
   ]
  },
  {
   "cell_type": "markdown",
   "metadata": {},
   "source": [
    "## Definición de las *URLs*."
   ]
  },
  {
   "cell_type": "markdown",
   "metadata": {},
   "source": [
    "El archivo ```src/15/urls.py``` contiene lo siguiente:\n",
    "\n",
    "``` python \n",
    "from django.urls import path, re_path\n",
    "from . import views, endpoint_views\n",
    "\n",
    "urlpatterns = [path('', views.vista),\n",
    "               path('carga', views.carga),\n",
    "               re_path(r'^(?P<clave>[0-9]{4}$)', endpoint_views.clave),]\n",
    "```\n",
    "\n",
    "En donde se define una relación entre un patrón que corresponde a una expresión regular que identifca a un número de 4 dígitos y la función ```clave()``` del módulo ```endpoint_views```."
   ]
  },
  {
   "cell_type": "markdown",
   "metadata": {},
   "source": [
    "* A continuación se sustituirá el archivo ```tutorial/api/urls.py``` con el archivo ```src/15/ursl.py```."
   ]
  },
  {
   "cell_type": "markdown",
   "metadata": {},
   "source": [
    "* Para las plataformas basadas en GNU/Linux o MacOS X."
   ]
  },
  {
   "cell_type": "code",
   "execution_count": null,
   "metadata": {},
   "outputs": [],
   "source": [
    "!cp src/15/urls.py tutorial/api/urls.py"
   ]
  },
  {
   "cell_type": "markdown",
   "metadata": {},
   "source": [
    "* Para las plataformas basadas en Windows."
   ]
  },
  {
   "cell_type": "code",
   "execution_count": null,
   "metadata": {},
   "outputs": [],
   "source": [
    "!copy src\\15\\urls.py tutorial\\api\\urls.py"
   ]
  },
  {
   "cell_type": "markdown",
   "metadata": {},
   "source": [
    "* La sustitución del archivo ```api/ursl.py``` puede ser verificada desde la siguiente celda."
   ]
  },
  {
   "cell_type": "code",
   "execution_count": null,
   "metadata": {},
   "outputs": [],
   "source": [
    "%pycat tutorial/api/urls.py"
   ]
  },
  {
   "cell_type": "markdown",
   "metadata": {},
   "source": [
    "## El script ```endpoint_views.py```.\n",
    "\n",
    "Este archivo es contiene a la función de vista ```clave()```, la cual es capaz de procesar los métodos ```GET```, ```POST``` y ```DELETE```."
   ]
  },
  {
   "cell_type": "markdown",
   "metadata": {},
   "source": [
    "``` python\n",
    "from . import models\n",
    "from django.views.decorators.csrf import csrf_exempt\n",
    "from django.http import JsonResponse, HttpResponseNotFound, HttpResponseBadRequest\n",
    "\n",
    "\"\"\" El objeto campos define la estructura de los campos aceptables para\n",
    "los datos relacionando el nombree del campo y una tupla que cuyo primer\n",
    "elemento es el tipo de dato del que se trata y el segundo elemento es \n",
    "un booleano que indica si el campo es obligatorio. \"\"\" \n",
    "campos = {'numero_de_cuenta':(int, True), \n",
    "          'nombre':(str, True), \n",
    "          'primer_apellido':(str, True),\n",
    "          'segundo_apellido':(str, False), \n",
    "          'carrera':(str, True), \n",
    "          'semestre':(int, True),\n",
    "          'promedio':(float, True), \n",
    "          'al_corriente':(bool, True)}\n",
    "\n",
    "\"\"\"El objeto carreras contiene una tupla con las carreras permitidas en el campo carrera.\"\"\" \n",
    "carreras = ('Sistemas', 'Derecho', 'Actuaría', 'Arquitectura', 'Administración')\n",
    "\n",
    "\"\"\"El objeto estructura_base es un objeto de tipo set que contiene los campos permitidos.\"\"\"\n",
    "estructura_base = set(campos)\n",
    "\n",
    "\n",
    "def reglas(valor, campo):\n",
    "    \"\"\" Función que valida las reglas de negocio \"\"\"\n",
    "    if campo == \"carrera\" and valor not in carreras:\n",
    "        return False\n",
    "    elif campo == \"semestre\" and valor < 1:\n",
    "        return False\n",
    "    elif campo == \"promedio\" and (valor >= 0 or valor <= 10):\n",
    "        return False\n",
    "    elif (campo in (\"nombre\", \"primer_apellido\") and (valor == \"\")):\n",
    "        return False\n",
    "    else:\n",
    "        return True         \n",
    "\n",
    "    \n",
    "def valida(dato, campo):\n",
    "    \"\"\" Función que valida un dato con relación a su campo correspondiente.\"\"\"\n",
    "    tipo = campos[campo][0]\n",
    "    try:\n",
    "        if tipo is not str:\n",
    "            valor = eval(dato)\n",
    "        else:\n",
    "            valor = dato\n",
    "        if type(valor) is tipo or (tipo is float and type(dato) is int):\n",
    "            return reglas(valor, campo)\n",
    "        else:\n",
    "            return False\n",
    "    except:\n",
    "        return False\n",
    "\n",
    "\n",
    "@csrf_exempt\n",
    "def clave(request, clave):\n",
    "    '''Función de vista que define un endpoint correspondiente a una clave de 4 dígitos.\n",
    "    Opera con los métodos GET, POST, DELETE.'''\n",
    "    # Cuando la petición es GET va a obtener los datos del alumno con la clave correrspondiente.\n",
    "    # Esta operación se realiza en caso de que exista un objeto con el número de cuenta.\n",
    "    if request.method == \"GET\":\n",
    "        try:\n",
    "            alumno = models.Alumno.objects.get(numero_de_cuenta=clave) \n",
    "            return JsonResponse({campo:getattr(alumno, campo) for campo in campos})\n",
    "        # La excepción models.Alumno.DoesNotExist se desencadena cuando la búsqueda no arroje un resultado.\n",
    "        except models.Alumno.DoesNotExist:\n",
    "            return HttpResponseNotFound()\n",
    "        \n",
    "    # Cuando la petición es DELETE el alumno es eliminado de la base de datos.\n",
    "    # Esta operación se realiza en caso de que exista un objeto con el número de cuenta.\n",
    "    if request.method == \"DELETE\":\n",
    "        try:\n",
    "            alumno = models.Alumno.objects.get(numero_de_cuenta=clave)\n",
    "            alumno.delete()\n",
    "            return JsonResponse({'estado': 'eliminado'})   \n",
    "        except models.Alumno.DoesNotExist:\n",
    "            return HttpResponseNotFound()\n",
    "    # Cuando la petición es POST va a dar de alta los datos del alumno con la clave correspondiente y los datos enviados.\n",
    "    # Esta operación se realiza en caso de que no exista un objeto con el número de cuenta.\n",
    "    if request.method == \"POST\":\n",
    "        try:\n",
    "            alumno = models.Alumno.objects.get(numero_de_cuenta=clave) \n",
    "            return HttpResponseBadRequest()\n",
    "        except models.Alumno.DoesNotExist:\n",
    "            registro = request.POST.dict()\n",
    "            registro[\"numero_de_cuenta\"] = clave\n",
    "            objeto = models.Alumno()\n",
    "            estructura_registro = set(registro)\n",
    "            if estructura_registro.issubset(estructura_base):\n",
    "                for campo in estructura_base:\n",
    "                    if valida(registro[campo], campo):\n",
    "                        if campos[campo][0] is not str:\n",
    "                            valor = eval(registro[campo])\n",
    "                        else:\n",
    "                            valor = registro[campo]\n",
    "                        setattr(objeto, campo, valor)\n",
    "                    else:\n",
    "                        return HttpResponseBadRequest()\n",
    "                objeto.save()\n",
    "                return JsonResponse(registro)\n",
    "            else:\n",
    "                return HttpResponseBadRequest()\n",
    "```\n"
   ]
  },
  {
   "cell_type": "markdown",
   "metadata": {},
   "source": [
    "* Se copiará el archivo ```src/15/endpoint_views.py``` al directorio ```api\\```."
   ]
  },
  {
   "cell_type": "markdown",
   "metadata": {},
   "source": [
    "* Para plataformas basadas en GNU/Linux o MacOS X."
   ]
  },
  {
   "cell_type": "code",
   "execution_count": null,
   "metadata": {},
   "outputs": [],
   "source": [
    "!cp src/15/endpoint_views.py tutorial/api/endpoint_views.py"
   ]
  },
  {
   "cell_type": "markdown",
   "metadata": {},
   "source": [
    "* Para plataformas basadas en Windows."
   ]
  },
  {
   "cell_type": "code",
   "execution_count": null,
   "metadata": {},
   "outputs": [],
   "source": [
    "!copy src\\15\\endpoint_views.py tutorial\\api\\endpoint_views.py"
   ]
  },
  {
   "cell_type": "markdown",
   "metadata": {},
   "source": [
    "* La siguiente celda permite verificar la copia del archivo ```src/15/endpoint_views.py``` al directorio ```api\\```."
   ]
  },
  {
   "cell_type": "code",
   "execution_count": null,
   "metadata": {
    "scrolled": true
   },
   "outputs": [],
   "source": [
    "%pycat tutorial/api/endpoint_views.py"
   ]
  },
  {
   "cell_type": "markdown",
   "metadata": {},
   "source": [
    "**ADVERTENCIAS:** \n",
    "\n",
    "* Al ejecutar la siguiente celda el servidor se inciará desde la notebook, por lo que para ejecutar cualquier otra celda es necesario interrumpir la ejecución del kernel.\n",
    "\n",
    "* Asegúrese que no haya otro servicio escuchando en el puerto *5000*."
   ]
  },
  {
   "cell_type": "code",
   "execution_count": null,
   "metadata": {},
   "outputs": [],
   "source": [
    "cd tutorial/"
   ]
  },
  {
   "cell_type": "code",
   "execution_count": null,
   "metadata": {},
   "outputs": [],
   "source": [
    "!./manage.py runserver 0.0.0.0:8000"
   ]
  },
  {
   "cell_type": "code",
   "execution_count": null,
   "metadata": {},
   "outputs": [],
   "source": [
    "%load_ext sql"
   ]
  },
  {
   "cell_type": "code",
   "execution_count": null,
   "metadata": {},
   "outputs": [],
   "source": [
    "%sql sqlite:///tutorial/db.sqlite3"
   ]
  },
  {
   "cell_type": "code",
   "execution_count": null,
   "metadata": {},
   "outputs": [],
   "source": [
    "%sql SELECT * FROM api_alumno;"
   ]
  },
  {
   "cell_type": "markdown",
   "metadata": {},
   "source": [
    "http://localhost:8000/api/1221"
   ]
  },
  {
   "cell_type": "markdown",
   "metadata": {},
   "source": [
    "<p style=\"text-align: center\"><a rel=\"license\" href=\"http://creativecommons.org/licenses/by/4.0/\"><img alt=\"Licencia Creative Commons\" style=\"border-width:0\" src=\"https://i.creativecommons.org/l/by/4.0/80x15.png\" /></a><br />Esta obra está bajo una <a rel=\"license\" href=\"http://creativecommons.org/licenses/by/4.0/\">Licencia Creative Commons Atribución 4.0 Internacional</a>.</p>\n",
    "<p style=\"text-align: center\">&copy; José Luis Chiquete Valdivieso. 2019.</p>"
   ]
  }
 ],
 "metadata": {
  "kernelspec": {
   "display_name": "Python 3 (ipykernel)",
   "language": "python",
   "name": "python3"
  },
  "language_info": {
   "codemirror_mode": {
    "name": "ipython",
    "version": 3
   },
   "file_extension": ".py",
   "mimetype": "text/x-python",
   "name": "python",
   "nbconvert_exporter": "python",
   "pygments_lexer": "ipython3",
   "version": "3.9.2"
  }
 },
 "nbformat": 4,
 "nbformat_minor": 2
}
