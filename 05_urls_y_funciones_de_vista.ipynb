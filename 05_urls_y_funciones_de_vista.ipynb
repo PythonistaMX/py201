{
 "cells": [
  {
   "cell_type": "markdown",
   "metadata": {},
   "source": [
    "[![imagenes/pythonista.png](imagenes/pythonista.png)](https://pythonista.io)"
   ]
  },
  {
   "cell_type": "markdown",
   "metadata": {},
   "source": [
    "# Gestión de *URLs* y funciones de vista."
   ]
  },
  {
   "cell_type": "markdown",
   "metadata": {},
   "source": [
    "**ADVERTENCIA:** Es necesario haber creado previamente el proyecto definido en la *notebook* [```01_introduccion_a_django.ipynb```](01_introduccion_a_django.ipynb) localizado en el directorio [```tutorial```](tutorial)."
   ]
  },
  {
   "cell_type": "markdown",
   "metadata": {},
   "source": [
    "## Los scripts ```urls.py```  y ```views.py```.\n",
    "\n",
    ". \n"
   ]
  },
  {
   "cell_type": "markdown",
   "metadata": {},
   "source": [
    "### Procesamiento de una petición en *Django*.\n",
    "\n",
    "Cuando un cliente envía una petición a una *URL* apuntando a un servidor de *Django* ocurre lo siguiente:\n",
    "\n",
    "* El servidor de *Django* creará un objeto de tipo ```request```, el cual contiene todos los datos de la petición del cliente.\n",
    "* La ruta de la petición debe de coincidir con patrón de ruta definido en un *script* ```urls.py``` localizado dentro del directorio del proyecto o en el de una aplicación.\n",
    "* Cada patrón de ruta está ligado a una función de vista, la cual será ejecutada cuando una petición coincida con el patrón de ruta correspondiente.\n",
    "* Las funciones de vista son definidas generalmente en los scripts ```views.py```, los cuales son importados como módulos por los scripts ```urls.py```.\n",
    "* *Django* ejecutará una función de vista ingresando al objeto ```request``` como primer argumento de dicha función.\n",
    "* La función de vista deberá de regresar un objeto ```response```, el cual será utilizado por el servidor de *Django* para transmitir una respuesta al cliente."
   ]
  },
  {
   "cell_type": "markdown",
   "metadata": {},
   "source": [
    "## Configuración del script ```urls.py``` raíz de un proyecto.\n",
    "\n",
    "Un proyecto de *Django* debe de tener al menos un *script* ```urls.py``` a partir del cual es posible mapear todas las *URLs* de dicho poyecto y de sus aplicaciones. \n",
    "\n",
    "La localización de este script es definida con la variable ```ROOT_URLCONF``` del script ```settings.py``` del proyecto."
   ]
  },
  {
   "cell_type": "markdown",
   "metadata": {},
   "source": [
    "**Ejemplo:**"
   ]
  },
  {
   "cell_type": "markdown",
   "metadata": {},
   "source": [
    "* La siguiente celda importará el módulo ```settings``` del paquete ```tutorial.tutorial```."
   ]
  },
  {
   "cell_type": "code",
   "execution_count": null,
   "metadata": {},
   "outputs": [],
   "source": [
    "from tutorial.tutorial import settings"
   ]
  },
  {
   "cell_type": "markdown",
   "metadata": {},
   "source": [
    "* Las siguiente celda regresará el valor de ```ROOT_URLCONF``` del proyecto ```tutorial```, el cual corresponde al módulo ```'tutorial.urls'```."
   ]
  },
  {
   "cell_type": "code",
   "execution_count": null,
   "metadata": {},
   "outputs": [],
   "source": [
    "settings.ROOT_URLCONF"
   ]
  },
  {
   "cell_type": "markdown",
   "metadata": {},
   "source": [
    "* A continación se muestra el *script* ```tutorial/tutorial/urls.py```, el cual fue generado cuando se creó el proyecto ```tutorial```.\n",
    "* Este *script* define al patrón de ruta ```'admin/'```, el cual es ligado a la función ```django.contrib.admin.site.urls```.\n",
    "\n",
    "``` python\n",
    "from django.contrib import admin\n",
    "from django.urls import path\n",
    "\n",
    "urlpatterns = [\n",
    "    path('admin/', admin.site.urls),\n",
    "]\n",
    "```\n",
    "\n",
    "**Nota:** *Django* ofrece la funcionalidad de desplegar un panel de administración mediante el paquete ```django.contrib.admin```. Dicho panel de administración se estudiará en capítulos posteriores."
   ]
  },
  {
   "cell_type": "markdown",
   "metadata": {},
   "source": [
    "* La siguiente celda desplegará el contenido del script ```tutorial/tutorial/urls.py```."
   ]
  },
  {
   "cell_type": "code",
   "execution_count": null,
   "metadata": {
    "scrolled": true
   },
   "outputs": [],
   "source": [
    "%pycat tutorial/tutorial/urls.py"
   ]
  },
  {
   "cell_type": "markdown",
   "metadata": {},
   "source": [
    "## El objeto  ```urlpatterns``` de los scripts ```urls.py```.\n",
    "\n",
    "El objeto ```urlpatterns``` define una lista de reglas para patrones de ruta dentro de una *URL*.\n",
    "\n",
    "```\n",
    "urlpattern  = [<regla 1>, <regla 2>... <regla n>]\n",
    "\n",
    "```\n",
    "\n",
    "Donde:\n",
    "\n",
    "* ```<regla i>``` es una regla que relaciona a un patrón de ruta con una función de vista .  "
   ]
  },
  {
   "cell_type": "markdown",
   "metadata": {},
   "source": [
    "## El paquete ```django.urls```.\n",
    "\n",
    "Este paquete contiene las herramientas que permitirán identificar patrones de ruta y ligarlos con  funciones de vista.\n",
    "\n",
    "La siguiente liga apunta a la documentación de referencian del paquete.\n",
    "\n",
    "https://docs.djangoproject.com/en/3.2/ref/urls/"
   ]
  },
  {
   "cell_type": "markdown",
   "metadata": {},
   "source": [
    "### La función ```django.urls.path()```.\n",
    "\n",
    "Esta función permite relacionar a un patrón de ruta dentro de un *URL* con una función.\n",
    "\n",
    "```\n",
    "django.urls.path('<patrón>', <función>, <kwargs>, name='<nombre>')\n",
    "```\n",
    "Donde:\n",
    "\n",
    "* ```<patrón>``` corresponde a un patrón de ruta.\n",
    "* ```<función>``` corresponde a una función de vista que será ejecutado. \n",
    "* ```<kwargs>``` corresponde a argumentos ```clave=valor```.\n",
    "* ```<nombre>``` es el nombre que se le dará a esta relación (opcional).\n"
   ]
  },
  {
   "cell_type": "markdown",
   "metadata": {},
   "source": [
    "### La función ```django.urls.include()```.\n",
    "\n",
    "En los lenguajes de programación como en el caso de *C*, se utliza la palabra ```include``` cuando se desea importar algún módulo de forma similar a la palabra reservada de *Python* ```import```. \n",
    "\n",
    "En este caso, la función ```django.urls.include()``` permite referenciar a un *script* de tipo  ```urls.py``` localizado en otro sitio del proyecto, permitiendo acceder al objeto ```urlpatterns``` de dicho *script*, extendiendo de ese modo los patrones de ruta.\n",
    "\n",
    "``` python\n",
    "django.urls.include('<patrón>', include('<script url>')\n",
    "```\n",
    "\n",
    "Donde:\n",
    "\n",
    "* ```<patrón>``` corresponde a un patrón de *URL*.\n",
    "* ```<script url>``` corresponde la localización de un *script* ```urls.py``` en otro sitio del proyecto. "
   ]
  },
  {
   "cell_type": "markdown",
   "metadata": {},
   "source": [
    "## Ejemplo de definiciones de patrones de ruta."
   ]
  },
  {
   "cell_type": "markdown",
   "metadata": {},
   "source": [
    "A continuación se crearán las reglas de patrones de *URLs* del proyecto ```tutorial``` y de la aplicación ```tutorial/main```."
   ]
  },
  {
   "cell_type": "markdown",
   "metadata": {},
   "source": [
    "### El *script* ```tutorial/tutorial/urls.py```.\n",
    "\n",
    "El *script* ```src/05/tutorial_urls.py``` contiene el siguiente código:\n",
    "\n",
    "``` python\n",
    "from django.contrib import admin\n",
    "from django.urls import include, path\n",
    "\n",
    "urlpatterns = [path('admin/', admin.site.urls), \n",
    "               path('main/', include('main.urls')),]\n",
    "```\n",
    "\n",
    "* El primer elemento de ```urlpatterns``` relaciona al patron de ruta ```admin/``` con la función ```django.contrib.admin.site.urls()```.\n",
    "* El segundo elemento de ```urlpatterns``` indica que los patrones de ruta a partir del patrón  ```main/``` serán definidos por el módulo ```main.urls```, el cual corresponde al *script* ```tutorial/main/urls.py``` ."
   ]
  },
  {
   "cell_type": "markdown",
   "metadata": {},
   "source": [
    "* La siguiente celda sustituirá al *script* ```tutorial/tutorial/urls.py``` con el *script* ```src/tutorial_urls.py```."
   ]
  },
  {
   "cell_type": "markdown",
   "metadata": {},
   "source": [
    "* En entornos *GNU/Linux* y *MacOS X*."
   ]
  },
  {
   "cell_type": "code",
   "execution_count": null,
   "metadata": {
    "scrolled": true
   },
   "outputs": [],
   "source": [
    "!cp src/05/tutorial_urls.py tutorial/tutorial/urls.py"
   ]
  },
  {
   "cell_type": "markdown",
   "metadata": {},
   "source": [
    "  * En entornos *Windows*."
   ]
  },
  {
   "cell_type": "code",
   "execution_count": null,
   "metadata": {},
   "outputs": [],
   "source": [
    "!copy src\\05\\tutorial_urls.py tutorial\\tutorial\\urls.py"
   ]
  },
  {
   "cell_type": "markdown",
   "metadata": {},
   "source": [
    "* La siguiente celda desplegará los cambios en el *script* ```tutorial\\tutorial\\urls.py```."
   ]
  },
  {
   "cell_type": "code",
   "execution_count": null,
   "metadata": {},
   "outputs": [],
   "source": [
    "%pycat tutorial/tutorial/urls.py"
   ]
  },
  {
   "cell_type": "markdown",
   "metadata": {},
   "source": [
    "### El *script*  ```tutorial/main/urls.py```.\n",
    "\n",
    "En vista de que ```tutorial/tutorial/urls.py``` cargará como módulo el contenido de ```tutorial/main/urls.py``` es necesario que el *script* de referencia exista.\n",
    "\n",
    "El *script* ```src/05/main_urls.py``` contiene el siguiente código:\n",
    "\n",
    "``` python\n",
    "from django.urls import path\n",
    "from . import views\n",
    "\n",
    "urlpatterns = [path('', views.index, name=\"inicio\"), \n",
    "               path('vista', views.vista)]\n",
    "```\n",
    "\n",
    "Este código indica lo siguiente: \n",
    "\n",
    "* Importar la función ```django.urls.path()```.\n",
    "* Importar el módulo ```views``` localizado en el mismo directorio donde se encuentra el *script* ```tutorial/main/urls.py``` (denotado por el punto ```.```). \n",
    "* La lista ```urlpatterns``` definen dos patrones de rutas:\n",
    "   * La ruta de ```main/```, la cual se denota por una cadena de caracteres vacía ```''```, ligándola a la función ```views.index()```.\n",
    "   * La ruta de ```main/vista```, la cual se denota por una cadena de caracteres ```'vista'```, ligándola a la función ```views.vista()```."
   ]
  },
  {
   "cell_type": "markdown",
   "metadata": {},
   "source": [
    "* La siguiente celda copiará el *script* ```src/05/main_urls.py``` a ```tutorial/main/urls.py```."
   ]
  },
  {
   "cell_type": "markdown",
   "metadata": {},
   "source": [
    "* En entornos *GNU/Linux* y *MacOS X*."
   ]
  },
  {
   "cell_type": "code",
   "execution_count": null,
   "metadata": {
    "scrolled": true
   },
   "outputs": [],
   "source": [
    "!cp src/05/main_urls.py tutorial/main/urls.py"
   ]
  },
  {
   "cell_type": "markdown",
   "metadata": {},
   "source": [
    "  * En entornos *Windows*."
   ]
  },
  {
   "cell_type": "code",
   "execution_count": null,
   "metadata": {},
   "outputs": [],
   "source": [
    "!copy src\\05\\main_urls.py tutorial\\main\\urls.py"
   ]
  },
  {
   "cell_type": "markdown",
   "metadata": {},
   "source": [
    "* La siguiente celda desplegará los cambios en el *script* ```tutorial\\main\\urls.py```."
   ]
  },
  {
   "cell_type": "code",
   "execution_count": null,
   "metadata": {},
   "outputs": [],
   "source": [
    "%pycat tutorial/main/urls.py"
   ]
  },
  {
   "cell_type": "markdown",
   "metadata": {},
   "source": [
    "### El *script* ```tutorial/main/views.py```.\n",
    "\n",
    "El *script* ```tutorial/main/views.py``` es referido como un módulo en el *script* ```tutorial/main/urls.py```.\n",
    "\n",
    "Hasta el momento, este *script* no contiene ninguna función y su código se vería similar a lo siguiente:\n",
    "\n",
    "```\n",
    "from django.shortcuts import render\n",
    "\n",
    "# Create your views here.\n",
    "```"
   ]
  },
  {
   "cell_type": "markdown",
   "metadata": {},
   "source": [
    "* La siguiente celda desplegará el contenido del *script* ```tutorial/main/views.py```."
   ]
  },
  {
   "cell_type": "code",
   "execution_count": null,
   "metadata": {
    "scrolled": true
   },
   "outputs": [],
   "source": [
    "%pycat tutorial/main/views.py"
   ]
  },
  {
   "cell_type": "markdown",
   "metadata": {},
   "source": [
    "## Ejemplo ilustrativo sobre los *scripts* ```view.py```."
   ]
  },
  {
   "cell_type": "markdown",
   "metadata": {},
   "source": [
    "### El *script* ```tutorial/main/views.py```.\n",
    "\n",
    "Este *script* contiene las funciones de vista habilitadas para la aplicación ```main``` del proyecto ```tutorial```."
   ]
  },
  {
   "cell_type": "markdown",
   "metadata": {},
   "source": [
    "El *script* ```src/05/views.py``` contiene lo siguiente:\n",
    "\n",
    "``` python\n",
    "from django.http import HttpResponse\n",
    "\n",
    "# Create your views here.\n",
    "def index(request):\n",
    "    return HttpResponse(\"<h1>Hola, mundo.</h1>\")\n",
    "\n",
    "def vista(request):\n",
    "    pass\n",
    "```\n",
    "\n",
    "Este código realiza lo siguiente:\n",
    "\n",
    "* Importa la clase ```HttpResponse``` desde el módulo ```django.http```, la cual es la clase base de los objetos ```response```.\n",
    "* Define la función de vista ```index()```, la cual regresa un objeto ```response``` conteniendo código en *HTML*.\n",
    "* Define la función de vista ```vista()```, la cual regresa ```None```.\n"
   ]
  },
  {
   "cell_type": "markdown",
   "metadata": {},
   "source": [
    "* La siguiente celda sustituirá al *script* ```tutorial/main/views.py``` con el *script* ```src/05/views.py```."
   ]
  },
  {
   "cell_type": "markdown",
   "metadata": {},
   "source": [
    "* En entornos *GNU/Linux* y *MacOS X*."
   ]
  },
  {
   "cell_type": "code",
   "execution_count": null,
   "metadata": {},
   "outputs": [],
   "source": [
    "!cp src/05/views.py tutorial/main/views.py"
   ]
  },
  {
   "cell_type": "markdown",
   "metadata": {},
   "source": [
    "* En entornos *Windows*."
   ]
  },
  {
   "cell_type": "code",
   "execution_count": null,
   "metadata": {},
   "outputs": [],
   "source": [
    "!copy src\\05\\views.py tutorial\\main\\views.py"
   ]
  },
  {
   "cell_type": "markdown",
   "metadata": {},
   "source": [
    "* La siguiente celda desplegará los cambios en el *script* ```tutorial/main/views.py```."
   ]
  },
  {
   "cell_type": "code",
   "execution_count": null,
   "metadata": {},
   "outputs": [],
   "source": [
    "%pycat tutorial/main/views.py"
   ]
  },
  {
   "cell_type": "markdown",
   "metadata": {},
   "source": [
    "### El paquete ```django.contrib.admin```.\n",
    "\n",
    "Este paquete contiene un conjunto de herramientas capaces de desplegar una aplicación de administración de un proyecto de *Django*.\n",
    "\n",
    "La documentación de este paquete puede ser consultada en:\n",
    "\n",
    "https://docs.djangoproject.com/en/3.2/ref/contrib/admin/\n",
    "\n",
    "**Notas:**\n",
    "* Aún cuando esta la aplicación de administración es habilitada automáticamente al momento en el que se crea un proyecto, puede ser un recurso opcional.\n",
    "* La aplicación de administración requiere que se definan usuarios con los roles y permisos correspondientes. Ese tema se verá en capítulos posteriores."
   ]
  },
  {
   "cell_type": "markdown",
   "metadata": {},
   "source": [
    "## Arranque del servicio web."
   ]
  },
  {
   "cell_type": "markdown",
   "metadata": {},
   "source": [
    "### Arranque desde la *notebook*."
   ]
  },
  {
   "cell_type": "code",
   "execution_count": null,
   "metadata": {},
   "outputs": [],
   "source": [
    "%cd tutorial"
   ]
  },
  {
   "cell_type": "code",
   "execution_count": null,
   "metadata": {},
   "outputs": [],
   "source": [
    "!python manage.py runserver 0.0.0.0:8000"
   ]
  },
  {
   "cell_type": "markdown",
   "metadata": {},
   "source": [
    "**Nota:** Es necesario interrumpir el *kernel* de la *notebook* para terminar la ejecución del servidor."
   ]
  },
  {
   "cell_type": "markdown",
   "metadata": {},
   "source": [
    "### Arranque desde una terminal.\n",
    "\n",
    "#### Carga del entorno.\n",
    "\n",
    "* En caso de que se acceda a la terminal de la máquina virtual proporcionada por *Pythonista<sup>®</sup>*, es necesario cargar el entormno con el siguiente comando.\n",
    "\n",
    "```\n",
    "source ~/pythonista/bin/activate\n",
    "```\n",
    "#### Inicio del servidor.\n",
    "\n",
    "* Desde la terminal ubicar el *shell* en el directorio ```tutorial```, en el cual se encuentra el *script* ```manage.py```.\n",
    "\n",
    "```\n",
    "python manage.py runserver 0.0.0.0:8000\n",
    "```\n",
    "\n",
    "**Nota:** \n",
    "Es necesario que el *firewall* de su equipo esté configurado para transmitir desde el puerto ```8000```. "
   ]
  },
  {
   "cell_type": "markdown",
   "metadata": {},
   "source": [
    "## Resultados."
   ]
  },
  {
   "cell_type": "markdown",
   "metadata": {},
   "source": [
    "### La ruta ```/main/```.\n",
    "\n",
    "Al acceder a http://localhost:8000/main/ aparecerá un mensaje de encabezado desplegando ```Hola, mundo.```.\n",
    "\n",
    "El navegador desplegará algo similar a la siguiente imagen:\n",
    "\n",
    "<img src=\"imagenes/05/hola.png\" width=\"400px\">"
   ]
  },
  {
   "cell_type": "markdown",
   "metadata": {},
   "source": [
    "### La ruta ```/main/vista```.\n",
    "\n",
    "Al acceder a http://localhost:8000/main/vista se mostrará un mensaje de error en vista de que el objeto que regresa la función ```tutorial.main.views.vista()``` no regresa un objeto ```response```. Debido a que *Django* está configurado en modo de depuración, desplegará los detalles del error de ejecución.\n",
    "\n",
    "El navegador desplegará algo similar a la siguiente imagen:\n",
    "\n",
    "\n",
    "<img src=\"imagenes/05/error.png\" width=\"600px\">"
   ]
  },
  {
   "cell_type": "markdown",
   "metadata": {},
   "source": [
    "### Rutas no definidas.\n",
    "\n",
    "* Al acceder a cualquier otra *URL* distinta a las indicadas, se mostrará un mensaje de estado ```404```.  Debido a que *Django* está configurado en modo de depuracion, desplegará los detalles y los patrones de ```URL``` válidos.\n",
    "\n",
    "En este caso, el navegador desplegará algo similar a la siguiente imagen cuando se trate de acceder a la *URL* http://localhost:8000/main/incorrecto:\n",
    "\n",
    "<img src=\"imagenes/05/404.png\" width=\"600px\">"
   ]
  },
  {
   "cell_type": "markdown",
   "metadata": {},
   "source": [
    "<p style=\"text-align: center\"><a rel=\"license\" href=\"http://creativecommons.org/licenses/by/4.0/\"><img alt=\"Licencia Creative Commons\" style=\"border-width:0\" src=\"https://i.creativecommons.org/l/by/4.0/80x15.png\" /></a><br />Esta obra está bajo una <a rel=\"license\" href=\"http://creativecommons.org/licenses/by/4.0/\">Licencia Creative Commons Atribución 4.0 Internacional</a>.</p>\n",
    "<p style=\"text-align: center\">&copy; José Luis Chiquete Valdivieso. 2021.</p>"
   ]
  }
 ],
 "metadata": {
  "kernelspec": {
   "display_name": "Python 3 (ipykernel)",
   "language": "python",
   "name": "python3"
  },
  "language_info": {
   "codemirror_mode": {
    "name": "ipython",
    "version": 3
   },
   "file_extension": ".py",
   "mimetype": "text/x-python",
   "name": "python",
   "nbconvert_exporter": "python",
   "pygments_lexer": "ipython3",
   "version": "3.9.2"
  }
 },
 "nbformat": 4,
 "nbformat_minor": 2
}
