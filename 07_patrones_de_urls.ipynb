{
 "cells": [
  {
   "cell_type": "markdown",
   "metadata": {},
   "source": [
    "[![imagenes/pythonista.png](imagenes/pythonista.png)](https://pythonista.io)"
   ]
  },
  {
   "cell_type": "markdown",
   "metadata": {},
   "source": [
    "# Patrones de *URLs*."
   ]
  },
  {
   "cell_type": "markdown",
   "metadata": {},
   "source": [
    "**ADVERTENCIA:**  \n",
    "\n",
    "Para poder realizar exitosamente los ejercicios de esta *notebook*, es necesario haber seguido al pie de la letra y en orden sucesivo las instrucciones de todas las *notebooks* previas."
   ]
  },
  {
   "cell_type": "markdown",
   "metadata": {},
   "source": [
    "El módulo ```django.urls``` cuenta con herramientas que permiten identificar y filtrar *URLs*  de modo tal que pueda crear servicios dinámicos a partir de la información contenida en ellos.\n",
    "\n",
    "La documentación correspondiente puede ser consultada en la siguiente liga:\n",
    "\n",
    "https://docs.djangoproject.com/en/3.2/topics/http/urls/"
   ]
  },
  {
   "cell_type": "markdown",
   "metadata": {},
   "source": [
    "## Identificación de segmentos en la ruta de una *URL*.\n",
    "\n",
    "Previamente se estudió la funcionalidad básica de ```django.urls.path()``` realizando las siguientes operaciones:\n",
    "\n",
    "* Identificando un patrón de *URL*.\n",
    "* Llamando a una función de vista relacionada con el patrón.\n",
    "* Ingresando automáticamente al objeto ```request``` como argumento de la función de vista.\n",
    "\n",
    "Es convieniente recordar que la sintaxis de la función ```django.urls.path()``` es:\n",
    "\n",
    "```\n",
    "django.urls.path('<patrón>', <funcion de vista>, <kwargs>)\n",
    "```\n",
    "\n",
    "Donde:\n",
    "* ```<patrón>``` es una cadena de cartacteres que debe de coincidir con la *URL*. \n",
    "* ```<función de vista>``` es la referencia a la función de vista al auq está relacionada el patrón.\n",
    "* ```<kwargs>``` son otros argumentos expresados como ```<nombre>=<valor>```."
   ]
  },
  {
   "cell_type": "markdown",
   "metadata": {},
   "source": [
    "### Extracción de segmentos identificables en la ruta de una *URL*.\n",
    "\n",
    "La función ```django.urls.path()``` puede:\n",
    "* Identificar segmentos de caracteres delimitados por el caracter ```/```.\n",
    "* Convertir cada cadena de caracteres segmentada en un tipo de dato específico.\n",
    "* Asignarle un nombre a cada valor obtenido."
   ]
  },
  {
   "cell_type": "markdown",
   "metadata": {},
   "source": [
    "### Tipos de datos extraibles de un segmento de ruta de una *URL*:\n",
    "\n",
    "Los tipos de datos en los que puede ser convertido un segmento son los siguiientes:\n",
    "\n",
    "* ```string```: es el tipo de datos por defecto y corresponde a una cadena de caracteres.\n",
    "* ```int```: corrsponde a un número entero positivo, incluyendo al cero.\n",
    "* ```slug```: es una combinación de caracteres *ASCII*, guiones medios ```-``` y guiones bajos ```_```.\n",
    "* ```uuid```: para las secuencias que se apegan a la especificación [*RFC 4122*](https://tools.ietf.org/html/rfc4122.html).\n",
    "* ```path```: captura el segmento de la *URL* incluyendo las diagonales ```/```."
   ]
  },
  {
   "cell_type": "markdown",
   "metadata": {},
   "source": [
    "**Ejemplo:**\n",
    "\n",
    "* La ruta ```main/53/azul/01``` puede ser segmentada obteniendo las siguientes cadenas de caracteres a partir de ```main/```:\n",
    "    * ```'53'```.\n",
    "    * ```'azul'```.\n",
    "    * ```'01'```.\n",
    "* Cada uno de estos segmentos puede ser convertido en un tipo compatible. Por defecto, todos los segmentos son de tipo ```string```."
   ]
  },
  {
   "cell_type": "markdown",
   "metadata": {},
   "source": [
    "### Definición del patrón de extracción de segmentos.\n",
    "\n",
    "La cadena de caracteres que define a un patrón con segmentos extraibles tendría una sintaxis similar a la siguiente:\n",
    "\n",
    "```\n",
    "'<patrón inicial>/<segmento 1>/<segmento 2>/.../<segmento n>'\n",
    "```\n",
    "\n",
    "Donde:\n",
    "\n",
    "* ```<patrón inicial>``` es un patrón específico que debe de coincidir con el primer segmento de la ruta.\n",
    "* ```<segmento x>``` corresponde a cada segmento a extraer."
   ]
  },
  {
   "cell_type": "markdown",
   "metadata": {},
   "source": [
    "### Definición de nombre y tipo de cada segmento.\n",
    "\n",
    "Es posible asignarle un nombre a cada segmento mediante la sintaxis ```tipo:nombre``` encerrado entre los signos de \"menor que\" ```<``` y \"mayor que\" ```>```.  "
   ]
  },
  {
   "cell_type": "markdown",
   "metadata": {},
   "source": [
    "**Ejemplo:**\n",
    " * Para capturar los segmentos de la *URL* ```main/53/azul/01``` se usaría el siguiente patrón:\n",
    " \n",
    " ```\n",
    " 'main/<int:codigo>/<string:color>/<int:cantidad>'\n",
    "```\n",
    "* Se obtendrían:\n",
    "    * El objeto con nombre ```codigo```, de tipo ```int``` y con valor de ```53```.\n",
    "    * El objeto con nombre ```color```, de tipo ```string``` y con valor de ```'azul'```.\n",
    "    * El objeto con nombre ```cantidad```, de tipo ```ìnt``` y con valor de ```1```.   \n",
    "    \n",
    "Estos valores serían usados como argumentos adicionales a ```request``` en la función de vista correspondiente."
   ]
  },
  {
   "cell_type": "markdown",
   "metadata": {},
   "source": [
    "## Identificación de rutas con expresiones regulares.\n",
    "\n",
    "La función ```django.url.re_path()``` permite hacer búsquedas que coincidan con una expresión regular.\n",
    "\n",
    "```\n",
    "re_path(r'<expresión regular>', <función de vista>)\n",
    "```\n",
    "En caso de que la expresión regular extraiga datos, estos datos se ingresarán como argumentos después del objeto ```request```. \n"
   ]
  },
  {
   "cell_type": "markdown",
   "metadata": {},
   "source": [
    "## Ejemplo ilustrativo."
   ]
  },
  {
   "cell_type": "markdown",
   "metadata": {},
   "source": [
    "### El *script* ```src/07/urls.py```.\n",
    "\n",
    "El *script* ```src/07/urls.py``` contiene lo siguiente:\n",
    "\n",
    "\n",
    "``` python\n",
    "from django.urls import path, re_path \n",
    "from . import views\n",
    "\n",
    "urlpatterns = [path('', views.index, name=\"inicio\"), \n",
    "               path('vista', views.vista),\n",
    "               re_path(r'^claves/(?P<clave>[0-9]{4}$)', views.clave),\n",
    "               path('claves/<int:numero>', views.numero),\n",
    "               path('claves/<str:nombre>', views.saluda),]\n",
    "```\n",
    "\n",
    "* En caso de que se ingrese una *URL* con exactamente 4 dígitos después de ```main/claves/```, se ejecutará la función ```views.clave()``` y se enviarán los 4 dígitos como segundo argumento.\n",
    "* En caso de que se ingrese una *URL* con números que no sean de 4 dígitos después de ```main/claves/```, se ejecutará la función ```views.numero()``` y se enviará el número entero como segundo argumento.\n",
    "* En caso de que se ingrese una *URL* con algo que no cumpla las condiciones previas después de ```main/claves/```, se ejecutará la función ```views.saluda()``` y se enviará el contenido como segundo argumento."
   ]
  },
  {
   "cell_type": "markdown",
   "metadata": {},
   "source": [
    "* A continuación se sustituirá al *script* ```tutorial/main/urls.py```  con el *script* ```src/07/urls.py```."
   ]
  },
  {
   "cell_type": "markdown",
   "metadata": {},
   "source": [
    "* Para la plataforma *GNU/Linux* y *MacOS X*."
   ]
  },
  {
   "cell_type": "code",
   "execution_count": null,
   "metadata": {},
   "outputs": [],
   "source": [
    "!cp src/07/urls.py tutorial/main/urls.py "
   ]
  },
  {
   "cell_type": "markdown",
   "metadata": {},
   "source": [
    "* Para la plataforma *Windows*."
   ]
  },
  {
   "cell_type": "code",
   "execution_count": null,
   "metadata": {},
   "outputs": [],
   "source": [
    "!copy src\\07\\urls.py tutorial\\main\\urls.py "
   ]
  },
  {
   "cell_type": "markdown",
   "metadata": {},
   "source": [
    "* La siguiente celda desplegará las modificaciones al *script* ```tutorial/main/urls.py```."
   ]
  },
  {
   "cell_type": "code",
   "execution_count": null,
   "metadata": {},
   "outputs": [],
   "source": [
    "%pycat tutorial/main/urls.py"
   ]
  },
  {
   "cell_type": "markdown",
   "metadata": {},
   "source": [
    "### El *script* ```src/07/views.py```.\n",
    "\n",
    "El *script* ```src/07/views.py``` contiene el siguiente código:\n",
    "\n",
    "``` python\n",
    "from django.http import HttpResponse\n",
    "\n",
    "\n",
    "def index(request):\n",
    "    return HttpResponse(\"<h1>Hola, mundo.</h1>\")\n",
    "\n",
    "\n",
    "def vista(request):\n",
    "    return HttpResponse('<ul><li>URL: {}</li><li>Método: {}</li><li>Codificación: {}</li><li>Argumentos: {}</li></ul>'.format(request.path, request.method, request.encoding, request.GET.dict()))\n",
    "\n",
    "\n",
    "def clave(request, clave):\n",
    "    return HttpResponse('<h1>Ingresaste la clave: {}</h1>'.format(str(clave)))\n",
    "\n",
    "\n",
    "def numero(request, numero):\n",
    "    return HttpResponse('<h1>Ingresaste el número: {}</h1>'.format(str(numero)))\n",
    "\n",
    "\n",
    "def saluda(request, nombre):\n",
    "    return HttpResponse('<h1>¡Hola, {}!</h1>'.format(nombre))\n",
    "```"
   ]
  },
  {
   "cell_type": "markdown",
   "metadata": {},
   "source": [
    "* A continuación se sustituirá al *script* ```tutorial/main/views.py```  con el *script* ```src/07/views.py```."
   ]
  },
  {
   "cell_type": "markdown",
   "metadata": {},
   "source": [
    "* Para las plataformas *GNU/Linux* y *MacOS X*."
   ]
  },
  {
   "cell_type": "code",
   "execution_count": null,
   "metadata": {},
   "outputs": [],
   "source": [
    "!cp src/07/views.py tutorial/main/views.py"
   ]
  },
  {
   "cell_type": "markdown",
   "metadata": {},
   "source": [
    "* Para la plataforma *Windows*."
   ]
  },
  {
   "cell_type": "code",
   "execution_count": null,
   "metadata": {},
   "outputs": [],
   "source": [
    "!copy src\\07\\views.py tutorial\\main\\views.py "
   ]
  },
  {
   "cell_type": "markdown",
   "metadata": {},
   "source": [
    "* La siguiente celda desplegará las modificaciones al *script* ```tutorial/main/views.py```."
   ]
  },
  {
   "cell_type": "code",
   "execution_count": null,
   "metadata": {},
   "outputs": [],
   "source": [
    "%pycat tutorial/main/views.py"
   ]
  },
  {
   "cell_type": "markdown",
   "metadata": {},
   "source": [
    "## Arranque del servicio."
   ]
  },
  {
   "cell_type": "markdown",
   "metadata": {},
   "source": [
    "### Arranque desde la *notebook*."
   ]
  },
  {
   "cell_type": "code",
   "execution_count": null,
   "metadata": {},
   "outputs": [],
   "source": [
    "%cd tutorial"
   ]
  },
  {
   "cell_type": "code",
   "execution_count": null,
   "metadata": {},
   "outputs": [],
   "source": [
    "!python manage.py runserver 0.0.0.0:8000"
   ]
  },
  {
   "cell_type": "markdown",
   "metadata": {},
   "source": [
    "### Arranque desde una terminal.\n",
    "\n",
    "#### Carga del entorno.\n",
    "\n",
    "* En caso de que se acceda a la terminal de la máquina virtual proporcionada por *Pythonista<sup>®</sup>*, es necesario cargar el entormno con el siguiente comando.\n",
    "\n",
    "```\n",
    "source ~/pythonista/bin/activate\n",
    "```\n",
    "#### Inicio del servidor.\n",
    "\n",
    "* Desde la terminal ubicar el *shell* en el directorio ```tutorial```, en el cual se encuentra el *script* ```manage.py```.\n",
    "\n",
    "```\n",
    "python manage.py runserver 0.0.0.0:8000\n",
    "```\n",
    "\n",
    "**Nota:** \n",
    "Es necesario que el *firewall* de su equipo esté configurado para transmitir desde el puerto ```8000```. "
   ]
  },
  {
   "cell_type": "markdown",
   "metadata": {},
   "source": [
    "## Resultados."
   ]
  },
  {
   "cell_type": "markdown",
   "metadata": {},
   "source": [
    "* La *URL* http://localhost:8000/main/claves/12345678 ejecutará la función ```tutorial.main.views.numero()``` en vista de que el segmento posterior a ```main/claves/``` contiene un número de 8 dígitos.\n",
    "\n",
    "<img src=\"imagenes/07/clave-12345678.png\" width=\"600\">"
   ]
  },
  {
   "cell_type": "markdown",
   "metadata": {},
   "source": [
    "* La *URL* http://localhost:8000/main/claves/12 ejecutará la función ```tutorial.main.views.numero()``` en vista de que el segmento posterior a ```main/claves/``` contiene un número de 2 dígitos.\n",
    "\n",
    "<img src=\"imagenes/07/clave-12.png\" width=\"600\">"
   ]
  },
  {
   "cell_type": "markdown",
   "metadata": {},
   "source": [
    "* La *URL* http://localhost:8000/main/claves/1234 ejecutará la función ```tutorial.main.views.clave()``` en vista de que el segmento posterior a ```main/claves/``` contiene un número de 4 dígitos.\n",
    "\n",
    "<img src=\"imagenes/07/clave-1234.png\" width=\"600\">"
   ]
  },
  {
   "cell_type": "markdown",
   "metadata": {},
   "source": [
    "* La *URL* *http://localhost:8000/main/claves/Juan* ejecutará la función ```tutorial.main.views.saluda()``` en vista de que el segmento posterior a ```main/claves/``` contiene una cadena de caracteres.\n",
    "\n",
    "<img src=\"imagenes/07/clave-juan.png\" width=\"600\">"
   ]
  },
  {
   "cell_type": "markdown",
   "metadata": {},
   "source": [
    "<p style=\"text-align: center\"><a rel=\"license\" href=\"http://creativecommons.org/licenses/by/4.0/\"><img alt=\"Licencia Creative Commons\" style=\"border-width:0\" src=\"https://i.creativecommons.org/l/by/4.0/80x15.png\" /></a><br />Esta obra está bajo una <a rel=\"license\" href=\"http://creativecommons.org/licenses/by/4.0/\">Licencia Creative Commons Atribución 4.0 Internacional</a>.</p>\n",
    "<p style=\"text-align: center\">&copy; José Luis Chiquete Valdivieso. 2021.</p>"
   ]
  }
 ],
 "metadata": {
  "kernelspec": {
   "display_name": "Python 3 (ipykernel)",
   "language": "python",
   "name": "python3"
  },
  "language_info": {
   "codemirror_mode": {
    "name": "ipython",
    "version": 3
   },
   "file_extension": ".py",
   "mimetype": "text/x-python",
   "name": "python",
   "nbconvert_exporter": "python",
   "pygments_lexer": "ipython3",
   "version": "3.9.2"
  }
 },
 "nbformat": 4,
 "nbformat_minor": 2
}
